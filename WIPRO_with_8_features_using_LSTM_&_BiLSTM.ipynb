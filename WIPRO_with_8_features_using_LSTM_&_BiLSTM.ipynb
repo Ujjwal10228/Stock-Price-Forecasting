{
  "nbformat": 4,
  "nbformat_minor": 0,
  "metadata": {
    "colab": {
      "provenance": [],
      "gpuType": "T4",
      "authorship_tag": "ABX9TyP3Dvsy1ZJBZaioA5dD/3KF",
      "include_colab_link": true
    },
    "kernelspec": {
      "name": "python3",
      "display_name": "Python 3"
    },
    "language_info": {
      "name": "python"
    },
    "accelerator": "GPU"
  },
  "cells": [
    {
      "cell_type": "markdown",
      "metadata": {
        "id": "view-in-github",
        "colab_type": "text"
      },
      "source": [
        "<a href=\"https://colab.research.google.com/github/Ujjwal10228/Stock-Price-Forecasting/blob/main/WIPRO_with_8_features_using_LSTM_%26_BiLSTM.ipynb\" target=\"_parent\"><img src=\"https://colab.research.google.com/assets/colab-badge.svg\" alt=\"Open In Colab\"/></a>"
      ]
    },
    {
      "cell_type": "code",
      "execution_count": null,
      "metadata": {
        "id": "ho55YyP7aw20"
      },
      "outputs": [],
      "source": [
        "import numpy as np\n",
        "import pandas as pd\n",
        "import csv\n",
        "import json\n",
        "import tensorflow as tf\n",
        "from sklearn.model_selection import train_test_split\n",
        "from tensorflow.keras.models import Sequential\n",
        "from tensorflow.keras.layers import Dense\n",
        "from tensorflow.keras.layers import LSTM, Bidirectional, Dense, TimeDistributed\n",
        "from tensorflow.keras.layers import Dropout\n",
        "from sklearn.metrics import mean_squared_error\n",
        "from sklearn.preprocessing import MinMaxScaler\n",
        "import matplotlib.pyplot as plt\n",
        "import math"
      ]
    },
    {
      "cell_type": "code",
      "source": [
        "data_path = (\"/content/WIPRO_with_indicators_.csv\")"
      ],
      "metadata": {
        "id": "KYcMqLBldASw"
      },
      "execution_count": null,
      "outputs": []
    },
    {
      "cell_type": "code",
      "source": [
        "data = pd.read_csv(data_path)\n",
        "df = pd.DataFrame(data)\n",
        "df.head()"
      ],
      "metadata": {
        "colab": {
          "base_uri": "https://localhost:8080/",
          "height": 342
        },
        "id": "sCUGRiWIdF2M",
        "outputId": "e86c6c04-b7f4-4b09-a2f9-a3cff3140505"
      },
      "execution_count": null,
      "outputs": [
        {
          "output_type": "execute_result",
          "data": {
            "text/plain": [
              "                        date    open    high     low   close  volume     sma5  \\\n",
              "0  2015-02-02 14:30:00+05:30  234.66  234.96  234.53  234.55   38304  234.538   \n",
              "1  2015-02-02 14:35:00+05:30  234.55  234.72  234.12  234.59   48176  234.594   \n",
              "2  2015-02-02 14:40:00+05:30  234.59  235.15  234.59  234.74  108766  234.692   \n",
              "3  2015-02-02 14:45:00+05:30  234.74  234.74  233.29  234.27   80930  234.562   \n",
              "4  2015-02-02 14:50:00+05:30  234.27  234.47  233.86  234.42   32368  234.514   \n",
              "\n",
              "     sma10       sma15     sma20  ...      fastd    fastksr    fastdsr  \\\n",
              "0  234.683  234.572000  234.3885  ...  55.554945  18.617434  33.947266   \n",
              "1  234.650  234.600667  234.4290  ...  48.279949  24.920845  23.388952   \n",
              "2  234.633  234.636000  234.4750  ...  51.318295  37.040082  26.859454   \n",
              "3  234.605  234.642667  234.5030  ...  53.613843   0.000000  20.653642   \n",
              "4  234.556  234.631333  234.5325  ...  57.878345  25.874517  20.971533   \n",
              "\n",
              "      ULTOSC      WILLR       ATR  Trange    TYPPRICE  HT_DCPERIOD      BETA  \n",
              "0  41.953980 -55.244755  0.482169    0.43  234.680000    37.326470 -0.330491  \n",
              "1  43.552696 -52.447552  0.490586    0.60  234.476667    37.297326 -0.130622  \n",
              "2  43.634665 -41.958042  0.495544    0.56  234.826667    36.466752  0.742299  \n",
              "3  50.105308 -52.195122  0.563719    1.45  234.100000    35.667311  1.780826  \n",
              "4  56.588824 -44.878049  0.567025    0.61  234.250000    34.390203  1.392145  \n",
              "\n",
              "[5 rows x 59 columns]"
            ],
            "text/html": [
              "\n",
              "  <div id=\"df-a7ad79ad-4924-4e86-9e5e-8735ca35390f\" class=\"colab-df-container\">\n",
              "    <div>\n",
              "<style scoped>\n",
              "    .dataframe tbody tr th:only-of-type {\n",
              "        vertical-align: middle;\n",
              "    }\n",
              "\n",
              "    .dataframe tbody tr th {\n",
              "        vertical-align: top;\n",
              "    }\n",
              "\n",
              "    .dataframe thead th {\n",
              "        text-align: right;\n",
              "    }\n",
              "</style>\n",
              "<table border=\"1\" class=\"dataframe\">\n",
              "  <thead>\n",
              "    <tr style=\"text-align: right;\">\n",
              "      <th></th>\n",
              "      <th>date</th>\n",
              "      <th>open</th>\n",
              "      <th>high</th>\n",
              "      <th>low</th>\n",
              "      <th>close</th>\n",
              "      <th>volume</th>\n",
              "      <th>sma5</th>\n",
              "      <th>sma10</th>\n",
              "      <th>sma15</th>\n",
              "      <th>sma20</th>\n",
              "      <th>...</th>\n",
              "      <th>fastd</th>\n",
              "      <th>fastksr</th>\n",
              "      <th>fastdsr</th>\n",
              "      <th>ULTOSC</th>\n",
              "      <th>WILLR</th>\n",
              "      <th>ATR</th>\n",
              "      <th>Trange</th>\n",
              "      <th>TYPPRICE</th>\n",
              "      <th>HT_DCPERIOD</th>\n",
              "      <th>BETA</th>\n",
              "    </tr>\n",
              "  </thead>\n",
              "  <tbody>\n",
              "    <tr>\n",
              "      <th>0</th>\n",
              "      <td>2015-02-02 14:30:00+05:30</td>\n",
              "      <td>234.66</td>\n",
              "      <td>234.96</td>\n",
              "      <td>234.53</td>\n",
              "      <td>234.55</td>\n",
              "      <td>38304</td>\n",
              "      <td>234.538</td>\n",
              "      <td>234.683</td>\n",
              "      <td>234.572000</td>\n",
              "      <td>234.3885</td>\n",
              "      <td>...</td>\n",
              "      <td>55.554945</td>\n",
              "      <td>18.617434</td>\n",
              "      <td>33.947266</td>\n",
              "      <td>41.953980</td>\n",
              "      <td>-55.244755</td>\n",
              "      <td>0.482169</td>\n",
              "      <td>0.43</td>\n",
              "      <td>234.680000</td>\n",
              "      <td>37.326470</td>\n",
              "      <td>-0.330491</td>\n",
              "    </tr>\n",
              "    <tr>\n",
              "      <th>1</th>\n",
              "      <td>2015-02-02 14:35:00+05:30</td>\n",
              "      <td>234.55</td>\n",
              "      <td>234.72</td>\n",
              "      <td>234.12</td>\n",
              "      <td>234.59</td>\n",
              "      <td>48176</td>\n",
              "      <td>234.594</td>\n",
              "      <td>234.650</td>\n",
              "      <td>234.600667</td>\n",
              "      <td>234.4290</td>\n",
              "      <td>...</td>\n",
              "      <td>48.279949</td>\n",
              "      <td>24.920845</td>\n",
              "      <td>23.388952</td>\n",
              "      <td>43.552696</td>\n",
              "      <td>-52.447552</td>\n",
              "      <td>0.490586</td>\n",
              "      <td>0.60</td>\n",
              "      <td>234.476667</td>\n",
              "      <td>37.297326</td>\n",
              "      <td>-0.130622</td>\n",
              "    </tr>\n",
              "    <tr>\n",
              "      <th>2</th>\n",
              "      <td>2015-02-02 14:40:00+05:30</td>\n",
              "      <td>234.59</td>\n",
              "      <td>235.15</td>\n",
              "      <td>234.59</td>\n",
              "      <td>234.74</td>\n",
              "      <td>108766</td>\n",
              "      <td>234.692</td>\n",
              "      <td>234.633</td>\n",
              "      <td>234.636000</td>\n",
              "      <td>234.4750</td>\n",
              "      <td>...</td>\n",
              "      <td>51.318295</td>\n",
              "      <td>37.040082</td>\n",
              "      <td>26.859454</td>\n",
              "      <td>43.634665</td>\n",
              "      <td>-41.958042</td>\n",
              "      <td>0.495544</td>\n",
              "      <td>0.56</td>\n",
              "      <td>234.826667</td>\n",
              "      <td>36.466752</td>\n",
              "      <td>0.742299</td>\n",
              "    </tr>\n",
              "    <tr>\n",
              "      <th>3</th>\n",
              "      <td>2015-02-02 14:45:00+05:30</td>\n",
              "      <td>234.74</td>\n",
              "      <td>234.74</td>\n",
              "      <td>233.29</td>\n",
              "      <td>234.27</td>\n",
              "      <td>80930</td>\n",
              "      <td>234.562</td>\n",
              "      <td>234.605</td>\n",
              "      <td>234.642667</td>\n",
              "      <td>234.5030</td>\n",
              "      <td>...</td>\n",
              "      <td>53.613843</td>\n",
              "      <td>0.000000</td>\n",
              "      <td>20.653642</td>\n",
              "      <td>50.105308</td>\n",
              "      <td>-52.195122</td>\n",
              "      <td>0.563719</td>\n",
              "      <td>1.45</td>\n",
              "      <td>234.100000</td>\n",
              "      <td>35.667311</td>\n",
              "      <td>1.780826</td>\n",
              "    </tr>\n",
              "    <tr>\n",
              "      <th>4</th>\n",
              "      <td>2015-02-02 14:50:00+05:30</td>\n",
              "      <td>234.27</td>\n",
              "      <td>234.47</td>\n",
              "      <td>233.86</td>\n",
              "      <td>234.42</td>\n",
              "      <td>32368</td>\n",
              "      <td>234.514</td>\n",
              "      <td>234.556</td>\n",
              "      <td>234.631333</td>\n",
              "      <td>234.5325</td>\n",
              "      <td>...</td>\n",
              "      <td>57.878345</td>\n",
              "      <td>25.874517</td>\n",
              "      <td>20.971533</td>\n",
              "      <td>56.588824</td>\n",
              "      <td>-44.878049</td>\n",
              "      <td>0.567025</td>\n",
              "      <td>0.61</td>\n",
              "      <td>234.250000</td>\n",
              "      <td>34.390203</td>\n",
              "      <td>1.392145</td>\n",
              "    </tr>\n",
              "  </tbody>\n",
              "</table>\n",
              "<p>5 rows × 59 columns</p>\n",
              "</div>\n",
              "    <div class=\"colab-df-buttons\">\n",
              "\n",
              "  <div class=\"colab-df-container\">\n",
              "    <button class=\"colab-df-convert\" onclick=\"convertToInteractive('df-a7ad79ad-4924-4e86-9e5e-8735ca35390f')\"\n",
              "            title=\"Convert this dataframe to an interactive table.\"\n",
              "            style=\"display:none;\">\n",
              "\n",
              "  <svg xmlns=\"http://www.w3.org/2000/svg\" height=\"24px\" viewBox=\"0 -960 960 960\">\n",
              "    <path d=\"M120-120v-720h720v720H120Zm60-500h600v-160H180v160Zm220 220h160v-160H400v160Zm0 220h160v-160H400v160ZM180-400h160v-160H180v160Zm440 0h160v-160H620v160ZM180-180h160v-160H180v160Zm440 0h160v-160H620v160Z\"/>\n",
              "  </svg>\n",
              "    </button>\n",
              "\n",
              "  <style>\n",
              "    .colab-df-container {\n",
              "      display:flex;\n",
              "      gap: 12px;\n",
              "    }\n",
              "\n",
              "    .colab-df-convert {\n",
              "      background-color: #E8F0FE;\n",
              "      border: none;\n",
              "      border-radius: 50%;\n",
              "      cursor: pointer;\n",
              "      display: none;\n",
              "      fill: #1967D2;\n",
              "      height: 32px;\n",
              "      padding: 0 0 0 0;\n",
              "      width: 32px;\n",
              "    }\n",
              "\n",
              "    .colab-df-convert:hover {\n",
              "      background-color: #E2EBFA;\n",
              "      box-shadow: 0px 1px 2px rgba(60, 64, 67, 0.3), 0px 1px 3px 1px rgba(60, 64, 67, 0.15);\n",
              "      fill: #174EA6;\n",
              "    }\n",
              "\n",
              "    .colab-df-buttons div {\n",
              "      margin-bottom: 4px;\n",
              "    }\n",
              "\n",
              "    [theme=dark] .colab-df-convert {\n",
              "      background-color: #3B4455;\n",
              "      fill: #D2E3FC;\n",
              "    }\n",
              "\n",
              "    [theme=dark] .colab-df-convert:hover {\n",
              "      background-color: #434B5C;\n",
              "      box-shadow: 0px 1px 3px 1px rgba(0, 0, 0, 0.15);\n",
              "      filter: drop-shadow(0px 1px 2px rgba(0, 0, 0, 0.3));\n",
              "      fill: #FFFFFF;\n",
              "    }\n",
              "  </style>\n",
              "\n",
              "    <script>\n",
              "      const buttonEl =\n",
              "        document.querySelector('#df-a7ad79ad-4924-4e86-9e5e-8735ca35390f button.colab-df-convert');\n",
              "      buttonEl.style.display =\n",
              "        google.colab.kernel.accessAllowed ? 'block' : 'none';\n",
              "\n",
              "      async function convertToInteractive(key) {\n",
              "        const element = document.querySelector('#df-a7ad79ad-4924-4e86-9e5e-8735ca35390f');\n",
              "        const dataTable =\n",
              "          await google.colab.kernel.invokeFunction('convertToInteractive',\n",
              "                                                    [key], {});\n",
              "        if (!dataTable) return;\n",
              "\n",
              "        const docLinkHtml = 'Like what you see? Visit the ' +\n",
              "          '<a target=\"_blank\" href=https://colab.research.google.com/notebooks/data_table.ipynb>data table notebook</a>'\n",
              "          + ' to learn more about interactive tables.';\n",
              "        element.innerHTML = '';\n",
              "        dataTable['output_type'] = 'display_data';\n",
              "        await google.colab.output.renderOutput(dataTable, element);\n",
              "        const docLink = document.createElement('div');\n",
              "        docLink.innerHTML = docLinkHtml;\n",
              "        element.appendChild(docLink);\n",
              "      }\n",
              "    </script>\n",
              "  </div>\n",
              "\n",
              "\n",
              "<div id=\"df-24518b18-1441-4242-aebc-cbc22f637512\">\n",
              "  <button class=\"colab-df-quickchart\" onclick=\"quickchart('df-24518b18-1441-4242-aebc-cbc22f637512')\"\n",
              "            title=\"Suggest charts\"\n",
              "            style=\"display:none;\">\n",
              "\n",
              "<svg xmlns=\"http://www.w3.org/2000/svg\" height=\"24px\"viewBox=\"0 0 24 24\"\n",
              "     width=\"24px\">\n",
              "    <g>\n",
              "        <path d=\"M19 3H5c-1.1 0-2 .9-2 2v14c0 1.1.9 2 2 2h14c1.1 0 2-.9 2-2V5c0-1.1-.9-2-2-2zM9 17H7v-7h2v7zm4 0h-2V7h2v10zm4 0h-2v-4h2v4z\"/>\n",
              "    </g>\n",
              "</svg>\n",
              "  </button>\n",
              "\n",
              "<style>\n",
              "  .colab-df-quickchart {\n",
              "      --bg-color: #E8F0FE;\n",
              "      --fill-color: #1967D2;\n",
              "      --hover-bg-color: #E2EBFA;\n",
              "      --hover-fill-color: #174EA6;\n",
              "      --disabled-fill-color: #AAA;\n",
              "      --disabled-bg-color: #DDD;\n",
              "  }\n",
              "\n",
              "  [theme=dark] .colab-df-quickchart {\n",
              "      --bg-color: #3B4455;\n",
              "      --fill-color: #D2E3FC;\n",
              "      --hover-bg-color: #434B5C;\n",
              "      --hover-fill-color: #FFFFFF;\n",
              "      --disabled-bg-color: #3B4455;\n",
              "      --disabled-fill-color: #666;\n",
              "  }\n",
              "\n",
              "  .colab-df-quickchart {\n",
              "    background-color: var(--bg-color);\n",
              "    border: none;\n",
              "    border-radius: 50%;\n",
              "    cursor: pointer;\n",
              "    display: none;\n",
              "    fill: var(--fill-color);\n",
              "    height: 32px;\n",
              "    padding: 0;\n",
              "    width: 32px;\n",
              "  }\n",
              "\n",
              "  .colab-df-quickchart:hover {\n",
              "    background-color: var(--hover-bg-color);\n",
              "    box-shadow: 0 1px 2px rgba(60, 64, 67, 0.3), 0 1px 3px 1px rgba(60, 64, 67, 0.15);\n",
              "    fill: var(--button-hover-fill-color);\n",
              "  }\n",
              "\n",
              "  .colab-df-quickchart-complete:disabled,\n",
              "  .colab-df-quickchart-complete:disabled:hover {\n",
              "    background-color: var(--disabled-bg-color);\n",
              "    fill: var(--disabled-fill-color);\n",
              "    box-shadow: none;\n",
              "  }\n",
              "\n",
              "  .colab-df-spinner {\n",
              "    border: 2px solid var(--fill-color);\n",
              "    border-color: transparent;\n",
              "    border-bottom-color: var(--fill-color);\n",
              "    animation:\n",
              "      spin 1s steps(1) infinite;\n",
              "  }\n",
              "\n",
              "  @keyframes spin {\n",
              "    0% {\n",
              "      border-color: transparent;\n",
              "      border-bottom-color: var(--fill-color);\n",
              "      border-left-color: var(--fill-color);\n",
              "    }\n",
              "    20% {\n",
              "      border-color: transparent;\n",
              "      border-left-color: var(--fill-color);\n",
              "      border-top-color: var(--fill-color);\n",
              "    }\n",
              "    30% {\n",
              "      border-color: transparent;\n",
              "      border-left-color: var(--fill-color);\n",
              "      border-top-color: var(--fill-color);\n",
              "      border-right-color: var(--fill-color);\n",
              "    }\n",
              "    40% {\n",
              "      border-color: transparent;\n",
              "      border-right-color: var(--fill-color);\n",
              "      border-top-color: var(--fill-color);\n",
              "    }\n",
              "    60% {\n",
              "      border-color: transparent;\n",
              "      border-right-color: var(--fill-color);\n",
              "    }\n",
              "    80% {\n",
              "      border-color: transparent;\n",
              "      border-right-color: var(--fill-color);\n",
              "      border-bottom-color: var(--fill-color);\n",
              "    }\n",
              "    90% {\n",
              "      border-color: transparent;\n",
              "      border-bottom-color: var(--fill-color);\n",
              "    }\n",
              "  }\n",
              "</style>\n",
              "\n",
              "  <script>\n",
              "    async function quickchart(key) {\n",
              "      const quickchartButtonEl =\n",
              "        document.querySelector('#' + key + ' button');\n",
              "      quickchartButtonEl.disabled = true;  // To prevent multiple clicks.\n",
              "      quickchartButtonEl.classList.add('colab-df-spinner');\n",
              "      try {\n",
              "        const charts = await google.colab.kernel.invokeFunction(\n",
              "            'suggestCharts', [key], {});\n",
              "      } catch (error) {\n",
              "        console.error('Error during call to suggestCharts:', error);\n",
              "      }\n",
              "      quickchartButtonEl.classList.remove('colab-df-spinner');\n",
              "      quickchartButtonEl.classList.add('colab-df-quickchart-complete');\n",
              "    }\n",
              "    (() => {\n",
              "      let quickchartButtonEl =\n",
              "        document.querySelector('#df-24518b18-1441-4242-aebc-cbc22f637512 button');\n",
              "      quickchartButtonEl.style.display =\n",
              "        google.colab.kernel.accessAllowed ? 'block' : 'none';\n",
              "    })();\n",
              "  </script>\n",
              "</div>\n",
              "\n",
              "    </div>\n",
              "  </div>\n"
            ],
            "application/vnd.google.colaboratory.intrinsic+json": {
              "type": "dataframe",
              "variable_name": "df"
            }
          },
          "metadata": {},
          "execution_count": 24
        }
      ]
    },
    {
      "cell_type": "code",
      "source": [
        "df.shape"
      ],
      "metadata": {
        "colab": {
          "base_uri": "https://localhost:8080/"
        },
        "id": "BBNZ0jQP6Te_",
        "outputId": "cf9767c1-28e3-4f60-c9c2-eb585d7e8a9c"
      },
      "execution_count": null,
      "outputs": [
        {
          "output_type": "execute_result",
          "data": {
            "text/plain": [
              "(130111, 59)"
            ]
          },
          "metadata": {},
          "execution_count": 25
        }
      ]
    },
    {
      "cell_type": "code",
      "source": [
        "df.tail()"
      ],
      "metadata": {
        "id": "lep4cqMRCCyT",
        "outputId": "4f28939c-7142-47a5-b318-8aa6275b027d",
        "colab": {
          "base_uri": "https://localhost:8080/",
          "height": 342
        }
      },
      "execution_count": null,
      "outputs": [
        {
          "output_type": "execute_result",
          "data": {
            "text/plain": [
              "                             date    open    high     low   close  volume  \\\n",
              "130106  2022-02-15 14:05:00+05:30  558.15  559.45  557.00  559.35   82005   \n",
              "130107  2022-02-15 14:10:00+05:30  559.40  559.45  557.55  557.90   88864   \n",
              "130108  2022-02-15 14:15:00+05:30  557.95  559.45  557.95  558.60   74874   \n",
              "130109  2022-02-15 14:20:00+05:30  558.60  559.50  558.25  558.35   80194   \n",
              "130110  2022-02-15 14:25:00+05:30  558.30  559.00  557.80  558.60   74430   \n",
              "\n",
              "          sma5    sma10       sma15     sma20  ...      fastd     fastksr  \\\n",
              "130106  557.60  555.910  555.316667  554.9775  ...  91.923147  100.000000   \n",
              "130107  557.93  556.360  555.550000  555.2275  ...  81.766579    0.000000   \n",
              "130108  558.29  556.870  555.820000  555.4975  ...  74.496464   20.142690   \n",
              "130109  558.48  557.315  556.103333  555.7300  ...  59.920706    4.411347   \n",
              "130110  558.56  557.690  556.433333  555.9175  ...        NaN         NaN   \n",
              "\n",
              "           fastdsr     ULTOSC      WILLR       ATR  Trange    TYPPRICE  \\\n",
              "130106  100.000000  76.269835  -1.538462  1.227273    2.45  558.600000   \n",
              "130107   66.666667  67.390135 -23.846154  1.275325    1.90  558.300000   \n",
              "130108   40.047563  64.237876 -13.076923  1.294944    1.55  558.666667   \n",
              "130109    8.184679  57.855465 -17.557252  1.291734    1.25  558.700000   \n",
              "130110         NaN        NaN        NaN       NaN     NaN         NaN   \n",
              "\n",
              "        HT_DCPERIOD      BETA  \n",
              "130106    16.542759 -1.172276  \n",
              "130107    15.987164 -0.550489  \n",
              "130108    15.535541 -0.322601  \n",
              "130109    15.213401 -0.638675  \n",
              "130110          NaN       NaN  \n",
              "\n",
              "[5 rows x 59 columns]"
            ],
            "text/html": [
              "\n",
              "  <div id=\"df-205b5781-89d0-4f73-8be9-b50ef303e0eb\" class=\"colab-df-container\">\n",
              "    <div>\n",
              "<style scoped>\n",
              "    .dataframe tbody tr th:only-of-type {\n",
              "        vertical-align: middle;\n",
              "    }\n",
              "\n",
              "    .dataframe tbody tr th {\n",
              "        vertical-align: top;\n",
              "    }\n",
              "\n",
              "    .dataframe thead th {\n",
              "        text-align: right;\n",
              "    }\n",
              "</style>\n",
              "<table border=\"1\" class=\"dataframe\">\n",
              "  <thead>\n",
              "    <tr style=\"text-align: right;\">\n",
              "      <th></th>\n",
              "      <th>date</th>\n",
              "      <th>open</th>\n",
              "      <th>high</th>\n",
              "      <th>low</th>\n",
              "      <th>close</th>\n",
              "      <th>volume</th>\n",
              "      <th>sma5</th>\n",
              "      <th>sma10</th>\n",
              "      <th>sma15</th>\n",
              "      <th>sma20</th>\n",
              "      <th>...</th>\n",
              "      <th>fastd</th>\n",
              "      <th>fastksr</th>\n",
              "      <th>fastdsr</th>\n",
              "      <th>ULTOSC</th>\n",
              "      <th>WILLR</th>\n",
              "      <th>ATR</th>\n",
              "      <th>Trange</th>\n",
              "      <th>TYPPRICE</th>\n",
              "      <th>HT_DCPERIOD</th>\n",
              "      <th>BETA</th>\n",
              "    </tr>\n",
              "  </thead>\n",
              "  <tbody>\n",
              "    <tr>\n",
              "      <th>130106</th>\n",
              "      <td>2022-02-15 14:05:00+05:30</td>\n",
              "      <td>558.15</td>\n",
              "      <td>559.45</td>\n",
              "      <td>557.00</td>\n",
              "      <td>559.35</td>\n",
              "      <td>82005</td>\n",
              "      <td>557.60</td>\n",
              "      <td>555.910</td>\n",
              "      <td>555.316667</td>\n",
              "      <td>554.9775</td>\n",
              "      <td>...</td>\n",
              "      <td>91.923147</td>\n",
              "      <td>100.000000</td>\n",
              "      <td>100.000000</td>\n",
              "      <td>76.269835</td>\n",
              "      <td>-1.538462</td>\n",
              "      <td>1.227273</td>\n",
              "      <td>2.45</td>\n",
              "      <td>558.600000</td>\n",
              "      <td>16.542759</td>\n",
              "      <td>-1.172276</td>\n",
              "    </tr>\n",
              "    <tr>\n",
              "      <th>130107</th>\n",
              "      <td>2022-02-15 14:10:00+05:30</td>\n",
              "      <td>559.40</td>\n",
              "      <td>559.45</td>\n",
              "      <td>557.55</td>\n",
              "      <td>557.90</td>\n",
              "      <td>88864</td>\n",
              "      <td>557.93</td>\n",
              "      <td>556.360</td>\n",
              "      <td>555.550000</td>\n",
              "      <td>555.2275</td>\n",
              "      <td>...</td>\n",
              "      <td>81.766579</td>\n",
              "      <td>0.000000</td>\n",
              "      <td>66.666667</td>\n",
              "      <td>67.390135</td>\n",
              "      <td>-23.846154</td>\n",
              "      <td>1.275325</td>\n",
              "      <td>1.90</td>\n",
              "      <td>558.300000</td>\n",
              "      <td>15.987164</td>\n",
              "      <td>-0.550489</td>\n",
              "    </tr>\n",
              "    <tr>\n",
              "      <th>130108</th>\n",
              "      <td>2022-02-15 14:15:00+05:30</td>\n",
              "      <td>557.95</td>\n",
              "      <td>559.45</td>\n",
              "      <td>557.95</td>\n",
              "      <td>558.60</td>\n",
              "      <td>74874</td>\n",
              "      <td>558.29</td>\n",
              "      <td>556.870</td>\n",
              "      <td>555.820000</td>\n",
              "      <td>555.4975</td>\n",
              "      <td>...</td>\n",
              "      <td>74.496464</td>\n",
              "      <td>20.142690</td>\n",
              "      <td>40.047563</td>\n",
              "      <td>64.237876</td>\n",
              "      <td>-13.076923</td>\n",
              "      <td>1.294944</td>\n",
              "      <td>1.55</td>\n",
              "      <td>558.666667</td>\n",
              "      <td>15.535541</td>\n",
              "      <td>-0.322601</td>\n",
              "    </tr>\n",
              "    <tr>\n",
              "      <th>130109</th>\n",
              "      <td>2022-02-15 14:20:00+05:30</td>\n",
              "      <td>558.60</td>\n",
              "      <td>559.50</td>\n",
              "      <td>558.25</td>\n",
              "      <td>558.35</td>\n",
              "      <td>80194</td>\n",
              "      <td>558.48</td>\n",
              "      <td>557.315</td>\n",
              "      <td>556.103333</td>\n",
              "      <td>555.7300</td>\n",
              "      <td>...</td>\n",
              "      <td>59.920706</td>\n",
              "      <td>4.411347</td>\n",
              "      <td>8.184679</td>\n",
              "      <td>57.855465</td>\n",
              "      <td>-17.557252</td>\n",
              "      <td>1.291734</td>\n",
              "      <td>1.25</td>\n",
              "      <td>558.700000</td>\n",
              "      <td>15.213401</td>\n",
              "      <td>-0.638675</td>\n",
              "    </tr>\n",
              "    <tr>\n",
              "      <th>130110</th>\n",
              "      <td>2022-02-15 14:25:00+05:30</td>\n",
              "      <td>558.30</td>\n",
              "      <td>559.00</td>\n",
              "      <td>557.80</td>\n",
              "      <td>558.60</td>\n",
              "      <td>74430</td>\n",
              "      <td>558.56</td>\n",
              "      <td>557.690</td>\n",
              "      <td>556.433333</td>\n",
              "      <td>555.9175</td>\n",
              "      <td>...</td>\n",
              "      <td>NaN</td>\n",
              "      <td>NaN</td>\n",
              "      <td>NaN</td>\n",
              "      <td>NaN</td>\n",
              "      <td>NaN</td>\n",
              "      <td>NaN</td>\n",
              "      <td>NaN</td>\n",
              "      <td>NaN</td>\n",
              "      <td>NaN</td>\n",
              "      <td>NaN</td>\n",
              "    </tr>\n",
              "  </tbody>\n",
              "</table>\n",
              "<p>5 rows × 59 columns</p>\n",
              "</div>\n",
              "    <div class=\"colab-df-buttons\">\n",
              "\n",
              "  <div class=\"colab-df-container\">\n",
              "    <button class=\"colab-df-convert\" onclick=\"convertToInteractive('df-205b5781-89d0-4f73-8be9-b50ef303e0eb')\"\n",
              "            title=\"Convert this dataframe to an interactive table.\"\n",
              "            style=\"display:none;\">\n",
              "\n",
              "  <svg xmlns=\"http://www.w3.org/2000/svg\" height=\"24px\" viewBox=\"0 -960 960 960\">\n",
              "    <path d=\"M120-120v-720h720v720H120Zm60-500h600v-160H180v160Zm220 220h160v-160H400v160Zm0 220h160v-160H400v160ZM180-400h160v-160H180v160Zm440 0h160v-160H620v160ZM180-180h160v-160H180v160Zm440 0h160v-160H620v160Z\"/>\n",
              "  </svg>\n",
              "    </button>\n",
              "\n",
              "  <style>\n",
              "    .colab-df-container {\n",
              "      display:flex;\n",
              "      gap: 12px;\n",
              "    }\n",
              "\n",
              "    .colab-df-convert {\n",
              "      background-color: #E8F0FE;\n",
              "      border: none;\n",
              "      border-radius: 50%;\n",
              "      cursor: pointer;\n",
              "      display: none;\n",
              "      fill: #1967D2;\n",
              "      height: 32px;\n",
              "      padding: 0 0 0 0;\n",
              "      width: 32px;\n",
              "    }\n",
              "\n",
              "    .colab-df-convert:hover {\n",
              "      background-color: #E2EBFA;\n",
              "      box-shadow: 0px 1px 2px rgba(60, 64, 67, 0.3), 0px 1px 3px 1px rgba(60, 64, 67, 0.15);\n",
              "      fill: #174EA6;\n",
              "    }\n",
              "\n",
              "    .colab-df-buttons div {\n",
              "      margin-bottom: 4px;\n",
              "    }\n",
              "\n",
              "    [theme=dark] .colab-df-convert {\n",
              "      background-color: #3B4455;\n",
              "      fill: #D2E3FC;\n",
              "    }\n",
              "\n",
              "    [theme=dark] .colab-df-convert:hover {\n",
              "      background-color: #434B5C;\n",
              "      box-shadow: 0px 1px 3px 1px rgba(0, 0, 0, 0.15);\n",
              "      filter: drop-shadow(0px 1px 2px rgba(0, 0, 0, 0.3));\n",
              "      fill: #FFFFFF;\n",
              "    }\n",
              "  </style>\n",
              "\n",
              "    <script>\n",
              "      const buttonEl =\n",
              "        document.querySelector('#df-205b5781-89d0-4f73-8be9-b50ef303e0eb button.colab-df-convert');\n",
              "      buttonEl.style.display =\n",
              "        google.colab.kernel.accessAllowed ? 'block' : 'none';\n",
              "\n",
              "      async function convertToInteractive(key) {\n",
              "        const element = document.querySelector('#df-205b5781-89d0-4f73-8be9-b50ef303e0eb');\n",
              "        const dataTable =\n",
              "          await google.colab.kernel.invokeFunction('convertToInteractive',\n",
              "                                                    [key], {});\n",
              "        if (!dataTable) return;\n",
              "\n",
              "        const docLinkHtml = 'Like what you see? Visit the ' +\n",
              "          '<a target=\"_blank\" href=https://colab.research.google.com/notebooks/data_table.ipynb>data table notebook</a>'\n",
              "          + ' to learn more about interactive tables.';\n",
              "        element.innerHTML = '';\n",
              "        dataTable['output_type'] = 'display_data';\n",
              "        await google.colab.output.renderOutput(dataTable, element);\n",
              "        const docLink = document.createElement('div');\n",
              "        docLink.innerHTML = docLinkHtml;\n",
              "        element.appendChild(docLink);\n",
              "      }\n",
              "    </script>\n",
              "  </div>\n",
              "\n",
              "\n",
              "<div id=\"df-c37bcdf4-40f4-4698-93b7-dee377042114\">\n",
              "  <button class=\"colab-df-quickchart\" onclick=\"quickchart('df-c37bcdf4-40f4-4698-93b7-dee377042114')\"\n",
              "            title=\"Suggest charts\"\n",
              "            style=\"display:none;\">\n",
              "\n",
              "<svg xmlns=\"http://www.w3.org/2000/svg\" height=\"24px\"viewBox=\"0 0 24 24\"\n",
              "     width=\"24px\">\n",
              "    <g>\n",
              "        <path d=\"M19 3H5c-1.1 0-2 .9-2 2v14c0 1.1.9 2 2 2h14c1.1 0 2-.9 2-2V5c0-1.1-.9-2-2-2zM9 17H7v-7h2v7zm4 0h-2V7h2v10zm4 0h-2v-4h2v4z\"/>\n",
              "    </g>\n",
              "</svg>\n",
              "  </button>\n",
              "\n",
              "<style>\n",
              "  .colab-df-quickchart {\n",
              "      --bg-color: #E8F0FE;\n",
              "      --fill-color: #1967D2;\n",
              "      --hover-bg-color: #E2EBFA;\n",
              "      --hover-fill-color: #174EA6;\n",
              "      --disabled-fill-color: #AAA;\n",
              "      --disabled-bg-color: #DDD;\n",
              "  }\n",
              "\n",
              "  [theme=dark] .colab-df-quickchart {\n",
              "      --bg-color: #3B4455;\n",
              "      --fill-color: #D2E3FC;\n",
              "      --hover-bg-color: #434B5C;\n",
              "      --hover-fill-color: #FFFFFF;\n",
              "      --disabled-bg-color: #3B4455;\n",
              "      --disabled-fill-color: #666;\n",
              "  }\n",
              "\n",
              "  .colab-df-quickchart {\n",
              "    background-color: var(--bg-color);\n",
              "    border: none;\n",
              "    border-radius: 50%;\n",
              "    cursor: pointer;\n",
              "    display: none;\n",
              "    fill: var(--fill-color);\n",
              "    height: 32px;\n",
              "    padding: 0;\n",
              "    width: 32px;\n",
              "  }\n",
              "\n",
              "  .colab-df-quickchart:hover {\n",
              "    background-color: var(--hover-bg-color);\n",
              "    box-shadow: 0 1px 2px rgba(60, 64, 67, 0.3), 0 1px 3px 1px rgba(60, 64, 67, 0.15);\n",
              "    fill: var(--button-hover-fill-color);\n",
              "  }\n",
              "\n",
              "  .colab-df-quickchart-complete:disabled,\n",
              "  .colab-df-quickchart-complete:disabled:hover {\n",
              "    background-color: var(--disabled-bg-color);\n",
              "    fill: var(--disabled-fill-color);\n",
              "    box-shadow: none;\n",
              "  }\n",
              "\n",
              "  .colab-df-spinner {\n",
              "    border: 2px solid var(--fill-color);\n",
              "    border-color: transparent;\n",
              "    border-bottom-color: var(--fill-color);\n",
              "    animation:\n",
              "      spin 1s steps(1) infinite;\n",
              "  }\n",
              "\n",
              "  @keyframes spin {\n",
              "    0% {\n",
              "      border-color: transparent;\n",
              "      border-bottom-color: var(--fill-color);\n",
              "      border-left-color: var(--fill-color);\n",
              "    }\n",
              "    20% {\n",
              "      border-color: transparent;\n",
              "      border-left-color: var(--fill-color);\n",
              "      border-top-color: var(--fill-color);\n",
              "    }\n",
              "    30% {\n",
              "      border-color: transparent;\n",
              "      border-left-color: var(--fill-color);\n",
              "      border-top-color: var(--fill-color);\n",
              "      border-right-color: var(--fill-color);\n",
              "    }\n",
              "    40% {\n",
              "      border-color: transparent;\n",
              "      border-right-color: var(--fill-color);\n",
              "      border-top-color: var(--fill-color);\n",
              "    }\n",
              "    60% {\n",
              "      border-color: transparent;\n",
              "      border-right-color: var(--fill-color);\n",
              "    }\n",
              "    80% {\n",
              "      border-color: transparent;\n",
              "      border-right-color: var(--fill-color);\n",
              "      border-bottom-color: var(--fill-color);\n",
              "    }\n",
              "    90% {\n",
              "      border-color: transparent;\n",
              "      border-bottom-color: var(--fill-color);\n",
              "    }\n",
              "  }\n",
              "</style>\n",
              "\n",
              "  <script>\n",
              "    async function quickchart(key) {\n",
              "      const quickchartButtonEl =\n",
              "        document.querySelector('#' + key + ' button');\n",
              "      quickchartButtonEl.disabled = true;  // To prevent multiple clicks.\n",
              "      quickchartButtonEl.classList.add('colab-df-spinner');\n",
              "      try {\n",
              "        const charts = await google.colab.kernel.invokeFunction(\n",
              "            'suggestCharts', [key], {});\n",
              "      } catch (error) {\n",
              "        console.error('Error during call to suggestCharts:', error);\n",
              "      }\n",
              "      quickchartButtonEl.classList.remove('colab-df-spinner');\n",
              "      quickchartButtonEl.classList.add('colab-df-quickchart-complete');\n",
              "    }\n",
              "    (() => {\n",
              "      let quickchartButtonEl =\n",
              "        document.querySelector('#df-c37bcdf4-40f4-4698-93b7-dee377042114 button');\n",
              "      quickchartButtonEl.style.display =\n",
              "        google.colab.kernel.accessAllowed ? 'block' : 'none';\n",
              "    })();\n",
              "  </script>\n",
              "</div>\n",
              "\n",
              "    </div>\n",
              "  </div>\n"
            ],
            "application/vnd.google.colaboratory.intrinsic+json": {
              "type": "dataframe"
            }
          },
          "metadata": {},
          "execution_count": 26
        }
      ]
    },
    {
      "cell_type": "code",
      "source": [
        "df[['open','high', 'low', 'volume', 'close', 'BETA', 'HT_DCPERIOD', 'Trange']] = MinMaxScaler(feature_range=(0, 1)).fit_transform(df[['open','high', 'low', 'volume', 'close', 'BETA', 'HT_DCPERIOD', 'Trange']])\n"
      ],
      "metadata": {
        "id": "6DJsZ9S5evpl"
      },
      "execution_count": null,
      "outputs": []
    },
    {
      "cell_type": "code",
      "source": [
        "df.shape"
      ],
      "metadata": {
        "colab": {
          "base_uri": "https://localhost:8080/"
        },
        "id": "G8sklXFtqXWZ",
        "outputId": "ae9063e1-c6c2-4cf3-d6cd-67ac9a651a48"
      },
      "execution_count": null,
      "outputs": [
        {
          "output_type": "execute_result",
          "data": {
            "text/plain": [
              "(17145, 59)"
            ]
          },
          "metadata": {},
          "execution_count": 7
        }
      ]
    },
    {
      "cell_type": "code",
      "source": [
        "final_data = df[['open','date','high', 'low', 'volume', 'close', 'BETA', 'HT_DCPERIOD', 'Trange']][0:10000] # Taking 10k data only first\n",
        "input_sequences = []\n",
        "labels = []\n",
        "\n",
        "# Creating features & labels for forecasting\n",
        "for i in range(10, len(final_data)):\n",
        "  if i>=10:\n",
        "    input_sequences.append(final_data[['open','high', 'low', 'volume', 'close', 'BETA', 'HT_DCPERIOD', 'Trange']][i-10:i])\n",
        "    labels.append(final_data['close'][i])\n",
        "\n",
        "# Creating train test split\n",
        "X_train = np.array(input_sequences[0:8000])\n",
        "X_test = np.array(input_sequences[8000:])\n",
        "y_train = np.array(labels[0:8000])\n",
        "y_test = np.array(labels[8000:])"
      ],
      "metadata": {
        "id": "hu6fgWeZdNfm"
      },
      "execution_count": null,
      "outputs": []
    },
    {
      "cell_type": "code",
      "source": [
        "X_train.shape, y_train.shape"
      ],
      "metadata": {
        "id": "KHgLmuNUijNq",
        "colab": {
          "base_uri": "https://localhost:8080/"
        },
        "outputId": "360f3d64-433a-4614-9241-47812f7cc7c1"
      },
      "execution_count": null,
      "outputs": [
        {
          "output_type": "execute_result",
          "data": {
            "text/plain": [
              "((8000, 10, 8), (8000,))"
            ]
          },
          "metadata": {},
          "execution_count": 9
        }
      ]
    },
    {
      "cell_type": "code",
      "source": [
        "X_test.shape, y_test.shape"
      ],
      "metadata": {
        "id": "bpp6WsTN-uGY",
        "colab": {
          "base_uri": "https://localhost:8080/"
        },
        "outputId": "f58bd112-9e18-4f38-f528-dfa235624186"
      },
      "execution_count": null,
      "outputs": [
        {
          "output_type": "execute_result",
          "data": {
            "text/plain": [
              "((1990, 10, 8), (1990,))"
            ]
          },
          "metadata": {},
          "execution_count": 10
        }
      ]
    },
    {
      "cell_type": "code",
      "source": [
        "print(X_train[0], y_train[0])"
      ],
      "metadata": {
        "id": "gg2s-UmIj9w_",
        "colab": {
          "base_uri": "https://localhost:8080/"
        },
        "outputId": "5828a211-23bc-47e6-e619-d79eebf8b44d"
      },
      "execution_count": null,
      "outputs": [
        {
          "output_type": "stream",
          "name": "stdout",
          "text": [
            "[[0.67627202 0.6736227  0.68354017 0.01833878 0.67435348 0.43908386\n",
            "  0.79332001 0.03536184]\n",
            " [0.67446073 0.66961603 0.6768452  0.0230652  0.67501235 0.44573974\n",
            "  0.79248295 0.04934211]\n",
            " [0.67511938 0.67679466 0.68451992 0.05207384 0.67748312 0.47480909\n",
            "  0.76862765 0.04605263]\n",
            " [0.67758933 0.66994992 0.66329197 0.03874681 0.66974139 0.50939329\n",
            "  0.74566652 0.11924342]\n",
            " [0.66985016 0.6654424  0.67259961 0.01549681 0.67221216 0.49644974\n",
            "  0.70898608 0.05016447]\n",
            " [0.67264943 0.66527546 0.67210973 0.02462216 0.66809422 0.49694219\n",
            "  0.66451928 0.05180921]\n",
            " [0.66820352 0.66427379 0.67766166 0.03015769 0.67122385 0.4960108\n",
            "  0.61614841 0.01891447]\n",
            " [0.66886218 0.66110184 0.67749837 0.04154761 0.66875309 0.53970741\n",
            "  0.57149712 0.01644737]\n",
            " [0.66886218 0.67429048 0.67749837 0.05646224 0.6811069  0.44005038\n",
            "  0.53514976 0.06907895]\n",
            " [0.68252923 0.67996661 0.68941868 0.09395372 0.68522484 0.45274584\n",
            "  0.50851661 0.03700658]] 0.6929665623455774\n"
          ]
        }
      ]
    },
    {
      "cell_type": "code",
      "source": [
        "plt.style.use('ggplot')\n",
        "\n",
        "# COnvert the 'date' column to datetime format\n",
        "df['date'] = pd.to_datetime(df['date'])\n",
        "\n",
        "# Plotting time series data\n",
        "plt.figure(figsize=(10, 6))\n",
        "plt.plot(df['date'][0:10000], df['close'][0:10000])\n",
        "plt.xlabel('Date')\n",
        "plt.ylabel('Close Price')\n",
        "plt.title('Time Series Data')\n",
        "plt.grid(True)\n",
        "plt.show()"
      ],
      "metadata": {
        "id": "hPsafgZVjENY",
        "colab": {
          "base_uri": "https://localhost:8080/",
          "height": 505
        },
        "outputId": "f7f07e90-9401-4a66-80bf-d438fa227ae9"
      },
      "execution_count": null,
      "outputs": [
        {
          "output_type": "display_data",
          "data": {
            "text/plain": [
              "<Figure size 1000x600 with 1 Axes>"
            ],
            "image/png": "[encoded data removed]"
          },
          "metadata": {}
        }
      ]
    },
    {
      "cell_type": "markdown",
      "source": [
        "BiLSTM Model"
      ],
      "metadata": {
        "id": "Y5F8pGaCU-PE"
      }
    },
    {
      "cell_type": "code",
      "source": [
        "from ctypes import BigEndianStructure\n",
        "from keras import backend as K\n",
        "\n",
        "def rmse(y_true, y_pred):\n",
        "    return K.sqrt(K.mean(K.square(y_pred - y_true)))\n",
        "\n",
        "# Model\n",
        "model = Sequential()\n",
        "\n",
        "model.add(Bidirectional(LSTM(units=128, activation='tanh', return_sequences=True, input_shape=(10, 8))))\n",
        "model.add(Dropout(0.1))\n",
        "model.add(Bidirectional(LSTM(units=64, activation='tanh', return_sequences=True)))\n",
        "model.add(Dropout(0.1))\n",
        "model.add(Bidirectional(LSTM(units=32, activation='tanh', return_sequences=True)))\n",
        "model.add(Dropout(0.1))\n",
        "model.add(Bidirectional(LSTM(units=1, activation='linear', return_sequences=True)))\n",
        "model.add(Dropout(0.1))\n",
        "\n",
        "model.add(TimeDistributed(Dense(units=1, activation='linear')))\n",
        "\n",
        "model.compile(loss='mean_squared_error', optimizer='adam', metrics=['mean_squared_error',rmse])\n",
        "\n"
      ],
      "metadata": {
        "id": "Wu0_OeGRjNIG",
        "colab": {
          "base_uri": "https://localhost:8080/"
        },
        "outputId": "c55ffe28-bf67-4910-962d-52ba844e358f"
      },
      "execution_count": null,
      "outputs": [
        {
          "output_type": "stream",
          "name": "stderr",
          "text": [
            "WARNING:tensorflow:Layer lstm_7 will not use cuDNN kernels since it doesn't meet the criteria. It will use a generic GPU kernel as fallback when running on GPU.\n",
            "WARNING:tensorflow:Layer lstm_7 will not use cuDNN kernels since it doesn't meet the criteria. It will use a generic GPU kernel as fallback when running on GPU.\n",
            "WARNING:tensorflow:Layer lstm_7 will not use cuDNN kernels since it doesn't meet the criteria. It will use a generic GPU kernel as fallback when running on GPU.\n"
          ]
        }
      ]
    },
    {
      "cell_type": "code",
      "source": [
        "model.fit(X_train, y_train, epochs=10, validation_data=(X_test, y_test), batch_size=32)"
      ],
      "metadata": {
        "id": "y2e01yBom4nv",
        "colab": {
          "base_uri": "https://localhost:8080/"
        },
        "outputId": "7ec49776-3625-4fb3-e30f-3d753d19cd0f"
      },
      "execution_count": null,
      "outputs": [
        {
          "output_type": "stream",
          "name": "stdout",
          "text": [
            "Epoch 1/10\n",
            "250/250 [==============================] - 28s 48ms/step - loss: 0.1051 - mean_squared_error: 0.1051 - rmse: 0.3231 - val_loss: 0.0293 - val_mean_squared_error: 0.0293 - val_rmse: 0.1628\n",
            "Epoch 2/10\n",
            "250/250 [==============================] - 10s 40ms/step - loss: 0.0976 - mean_squared_error: 0.0976 - rmse: 0.3119 - val_loss: 0.0179 - val_mean_squared_error: 0.0179 - val_rmse: 0.1228\n",
            "Epoch 3/10\n",
            "250/250 [==============================] - 11s 46ms/step - loss: 0.0950 - mean_squared_error: 0.0950 - rmse: 0.3077 - val_loss: 0.0314 - val_mean_squared_error: 0.0314 - val_rmse: 0.1690\n",
            "Epoch 4/10\n",
            "250/250 [==============================] - 13s 50ms/step - loss: 0.0929 - mean_squared_error: 0.0929 - rmse: 0.3043 - val_loss: 0.0184 - val_mean_squared_error: 0.0184 - val_rmse: 0.1252\n",
            "Epoch 5/10\n",
            "250/250 [==============================] - 9s 35ms/step - loss: 0.0919 - mean_squared_error: 0.0919 - rmse: 0.3027 - val_loss: 0.0242 - val_mean_squared_error: 0.0242 - val_rmse: 0.1460\n",
            "Epoch 6/10\n",
            "250/250 [==============================] - 10s 41ms/step - loss: 0.0911 - mean_squared_error: 0.0911 - rmse: 0.3015 - val_loss: 0.0189 - val_mean_squared_error: 0.0189 - val_rmse: 0.1268\n",
            "Epoch 7/10\n",
            "250/250 [==============================] - 10s 41ms/step - loss: 0.0908 - mean_squared_error: 0.0908 - rmse: 0.3009 - val_loss: 0.0206 - val_mean_squared_error: 0.0206 - val_rmse: 0.1334\n",
            "Epoch 8/10\n",
            "250/250 [==============================] - 7s 26ms/step - loss: 0.0905 - mean_squared_error: 0.0905 - rmse: 0.3004 - val_loss: 0.0254 - val_mean_squared_error: 0.0254 - val_rmse: 0.1502\n",
            "Epoch 9/10\n",
            "250/250 [==============================] - 8s 32ms/step - loss: 0.0903 - mean_squared_error: 0.0903 - rmse: 0.3001 - val_loss: 0.0287 - val_mean_squared_error: 0.0287 - val_rmse: 0.1605\n",
            "Epoch 10/10\n",
            "250/250 [==============================] - 7s 26ms/step - loss: 0.0901 - mean_squared_error: 0.0901 - rmse: 0.2997 - val_loss: 0.0315 - val_mean_squared_error: 0.0315 - val_rmse: 0.1690\n"
          ]
        },
        {
          "output_type": "execute_result",
          "data": {
            "text/plain": [
              "<keras.src.callbacks.History at 0x7a0112c29cc0>"
            ]
          },
          "metadata": {},
          "execution_count": 16
        }
      ]
    },
    {
      "cell_type": "code",
      "source": [
        "model.fit(X_train, y_train, epochs=10, validation_data=(X_test, y_test), batch_size=64)"
      ],
      "metadata": {
        "colab": {
          "base_uri": "https://localhost:8080/"
        },
        "id": "S3gW8vVEVkxZ",
        "outputId": "1c4332e3-52b0-40e7-d221-650add283042"
      },
      "execution_count": null,
      "outputs": [
        {
          "output_type": "stream",
          "name": "stdout",
          "text": [
            "Epoch 1/10\n",
            "125/125 [==============================] - 7s 33ms/step - loss: 0.0899 - mean_squared_error: 0.0899 - rmse: 0.2997 - val_loss: 0.0253 - val_mean_squared_error: 0.0253 - val_rmse: 0.1497\n",
            "Epoch 2/10\n",
            "125/125 [==============================] - 3s 21ms/step - loss: 0.0900 - mean_squared_error: 0.0900 - rmse: 0.2996 - val_loss: 0.0260 - val_mean_squared_error: 0.0260 - val_rmse: 0.1520\n",
            "Epoch 3/10\n",
            "125/125 [==============================] - 3s 21ms/step - loss: 0.0899 - mean_squared_error: 0.0899 - rmse: 0.2996 - val_loss: 0.0271 - val_mean_squared_error: 0.0271 - val_rmse: 0.1553\n",
            "Epoch 4/10\n",
            "125/125 [==============================] - 3s 22ms/step - loss: 0.0899 - mean_squared_error: 0.0899 - rmse: 0.2996 - val_loss: 0.0265 - val_mean_squared_error: 0.0265 - val_rmse: 0.1537\n",
            "Epoch 5/10\n",
            "125/125 [==============================] - 5s 37ms/step - loss: 0.0899 - mean_squared_error: 0.0899 - rmse: 0.2997 - val_loss: 0.0271 - val_mean_squared_error: 0.0271 - val_rmse: 0.1553\n",
            "Epoch 6/10\n",
            "125/125 [==============================] - 3s 23ms/step - loss: 0.0899 - mean_squared_error: 0.0899 - rmse: 0.2996 - val_loss: 0.0257 - val_mean_squared_error: 0.0257 - val_rmse: 0.1508\n",
            "Epoch 7/10\n",
            "125/125 [==============================] - 3s 23ms/step - loss: 0.0899 - mean_squared_error: 0.0899 - rmse: 0.2996 - val_loss: 0.0263 - val_mean_squared_error: 0.0263 - val_rmse: 0.1530\n",
            "Epoch 8/10\n",
            "125/125 [==============================] - 4s 33ms/step - loss: 0.0899 - mean_squared_error: 0.0899 - rmse: 0.2996 - val_loss: 0.0264 - val_mean_squared_error: 0.0264 - val_rmse: 0.1531\n",
            "Epoch 9/10\n",
            "125/125 [==============================] - 4s 36ms/step - loss: 0.0899 - mean_squared_error: 0.0899 - rmse: 0.2996 - val_loss: 0.0254 - val_mean_squared_error: 0.0254 - val_rmse: 0.1499\n",
            "Epoch 10/10\n",
            "125/125 [==============================] - 3s 22ms/step - loss: 0.0899 - mean_squared_error: 0.0899 - rmse: 0.2996 - val_loss: 0.0264 - val_mean_squared_error: 0.0264 - val_rmse: 0.1534\n"
          ]
        },
        {
          "output_type": "execute_result",
          "data": {
            "text/plain": [
              "<keras.src.callbacks.History at 0x7a011b447eb0>"
            ]
          },
          "metadata": {},
          "execution_count": 19
        }
      ]
    },
    {
      "cell_type": "markdown",
      "source": [
        "LSTM Model"
      ],
      "metadata": {
        "id": "0NbJb2MVU7sz"
      }
    },
    {
      "cell_type": "code",
      "source": [
        "from ctypes import BigEndianStructure\n",
        "from keras import backend as K\n",
        "\n",
        "def rmse(y_true, y_pred):\n",
        "    return K.sqrt(K.mean(K.square(y_pred - y_true)))\n",
        "\n",
        "# Model\n",
        "model = Sequential()\n",
        "\n",
        "model.add(LSTM(units=128, activation='tanh', return_sequences=True, input_shape=(10, 8)))\n",
        "model.add(Dropout(0.1))\n",
        "model.add(LSTM(units=64, activation='tanh', return_sequences=True))\n",
        "model.add(Dropout(0.1))\n",
        "model.add(LSTM(units=32, activation='tanh', return_sequences=True))\n",
        "model.add(Dropout(0.1))\n",
        "model.add(LSTM(units=1, activation='linear', return_sequences=True))\n",
        "model.add(Dropout(0.1))\n",
        "\n",
        "model.add(TimeDistributed(Dense(units=1, activation='linear')))\n",
        "\n",
        "model.compile(loss='mean_squared_error', optimizer='adam', metrics=['mean_squared_error',rmse])\n",
        "\n"
      ],
      "metadata": {
        "id": "psrMVkO7nfSc",
        "colab": {
          "base_uri": "https://localhost:8080/"
        },
        "outputId": "7643402d-362d-4e44-9307-04627c60d4e2"
      },
      "execution_count": null,
      "outputs": [
        {
          "output_type": "stream",
          "name": "stderr",
          "text": [
            "WARNING:tensorflow:Layer lstm_11 will not use cuDNN kernels since it doesn't meet the criteria. It will use a generic GPU kernel as fallback when running on GPU.\n"
          ]
        }
      ]
    },
    {
      "cell_type": "code",
      "source": [
        "model.fit(X_train, y_train, epochs=10, validation_data=(X_test, y_test), batch_size=32)"
      ],
      "metadata": {
        "colab": {
          "base_uri": "https://localhost:8080/"
        },
        "id": "eyL03byXVS_r",
        "outputId": "9b908d09-8338-4840-8fe7-7ef0f77c46db"
      },
      "execution_count": null,
      "outputs": [
        {
          "output_type": "stream",
          "name": "stdout",
          "text": [
            "Epoch 1/10\n",
            "250/250 [==============================] - 12s 21ms/step - loss: 0.1285 - mean_squared_error: 0.1285 - rmse: 0.3549 - val_loss: 0.0238 - val_mean_squared_error: 0.0238 - val_rmse: 0.1447\n",
            "Epoch 2/10\n",
            "250/250 [==============================] - 5s 20ms/step - loss: 0.1019 - mean_squared_error: 0.1019 - rmse: 0.3187 - val_loss: 0.0139 - val_mean_squared_error: 0.0139 - val_rmse: 0.1057\n",
            "Epoch 3/10\n",
            "250/250 [==============================] - 5s 22ms/step - loss: 0.0972 - mean_squared_error: 0.0972 - rmse: 0.3113 - val_loss: 0.0220 - val_mean_squared_error: 0.0220 - val_rmse: 0.1380\n",
            "Epoch 4/10\n",
            "250/250 [==============================] - 4s 15ms/step - loss: 0.0939 - mean_squared_error: 0.0939 - rmse: 0.3060 - val_loss: 0.0189 - val_mean_squared_error: 0.0189 - val_rmse: 0.1263\n",
            "Epoch 5/10\n",
            "250/250 [==============================] - 5s 21ms/step - loss: 0.0921 - mean_squared_error: 0.0921 - rmse: 0.3031 - val_loss: 0.0225 - val_mean_squared_error: 0.0225 - val_rmse: 0.1396\n",
            "Epoch 6/10\n",
            "250/250 [==============================] - 4s 15ms/step - loss: 0.0911 - mean_squared_error: 0.0911 - rmse: 0.3013 - val_loss: 0.0236 - val_mean_squared_error: 0.0236 - val_rmse: 0.1435\n",
            "Epoch 7/10\n",
            "250/250 [==============================] - 5s 18ms/step - loss: 0.0906 - mean_squared_error: 0.0906 - rmse: 0.3005 - val_loss: 0.0259 - val_mean_squared_error: 0.0259 - val_rmse: 0.1511\n",
            "Epoch 8/10\n",
            "250/250 [==============================] - 6s 24ms/step - loss: 0.0903 - mean_squared_error: 0.0903 - rmse: 0.3001 - val_loss: 0.0264 - val_mean_squared_error: 0.0264 - val_rmse: 0.1527\n",
            "Epoch 9/10\n",
            "250/250 [==============================] - 4s 16ms/step - loss: 0.0901 - mean_squared_error: 0.0901 - rmse: 0.2997 - val_loss: 0.0311 - val_mean_squared_error: 0.0311 - val_rmse: 0.1675\n",
            "Epoch 10/10\n",
            "250/250 [==============================] - 4s 16ms/step - loss: 0.0901 - mean_squared_error: 0.0901 - rmse: 0.2997 - val_loss: 0.0268 - val_mean_squared_error: 0.0268 - val_rmse: 0.1540\n"
          ]
        },
        {
          "output_type": "execute_result",
          "data": {
            "text/plain": [
              "<keras.src.callbacks.History at 0x7a01991f1b10>"
            ]
          },
          "metadata": {},
          "execution_count": 18
        }
      ]
    },
    {
      "cell_type": "code",
      "source": [
        "model.fit(X_train, y_train, epochs=10, validation_data=(X_test, y_test), batch_size=64)"
      ],
      "metadata": {
        "colab": {
          "base_uri": "https://localhost:8080/"
        },
        "id": "KaD55rbFVXBN",
        "outputId": "c2df6f0b-32e5-432a-8f85-6966eef877e6"
      },
      "execution_count": null,
      "outputs": [
        {
          "output_type": "stream",
          "name": "stdout",
          "text": [
            "Epoch 1/10\n",
            "125/125 [==============================] - 3s 22ms/step - loss: 0.0899 - mean_squared_error: 0.0899 - rmse: 0.2996 - val_loss: 0.0281 - val_mean_squared_error: 0.0281 - val_rmse: 0.1585\n",
            "Epoch 2/10\n",
            "125/125 [==============================] - 5s 37ms/step - loss: 0.0899 - mean_squared_error: 0.0899 - rmse: 0.2996 - val_loss: 0.0270 - val_mean_squared_error: 0.0270 - val_rmse: 0.1553\n",
            "Epoch 3/10\n",
            "125/125 [==============================] - 3s 23ms/step - loss: 0.0899 - mean_squared_error: 0.0899 - rmse: 0.2996 - val_loss: 0.0252 - val_mean_squared_error: 0.0252 - val_rmse: 0.1494\n",
            "Epoch 4/10\n",
            "125/125 [==============================] - 3s 25ms/step - loss: 0.0899 - mean_squared_error: 0.0899 - rmse: 0.2995 - val_loss: 0.0276 - val_mean_squared_error: 0.0276 - val_rmse: 0.1572\n",
            "Epoch 5/10\n",
            "125/125 [==============================] - 3s 21ms/step - loss: 0.0899 - mean_squared_error: 0.0899 - rmse: 0.2996 - val_loss: 0.0266 - val_mean_squared_error: 0.0266 - val_rmse: 0.1540\n",
            "Epoch 6/10\n",
            "125/125 [==============================] - 4s 33ms/step - loss: 0.0899 - mean_squared_error: 0.0899 - rmse: 0.2996 - val_loss: 0.0272 - val_mean_squared_error: 0.0272 - val_rmse: 0.1558\n",
            "Epoch 7/10\n",
            "125/125 [==============================] - 3s 24ms/step - loss: 0.0899 - mean_squared_error: 0.0899 - rmse: 0.2996 - val_loss: 0.0248 - val_mean_squared_error: 0.0248 - val_rmse: 0.1480\n",
            "Epoch 8/10\n",
            "125/125 [==============================] - 3s 22ms/step - loss: 0.0899 - mean_squared_error: 0.0899 - rmse: 0.2996 - val_loss: 0.0267 - val_mean_squared_error: 0.0267 - val_rmse: 0.1541\n",
            "Epoch 9/10\n",
            "125/125 [==============================] - 3s 22ms/step - loss: 0.0899 - mean_squared_error: 0.0899 - rmse: 0.2996 - val_loss: 0.0265 - val_mean_squared_error: 0.0265 - val_rmse: 0.1537\n",
            "Epoch 10/10\n",
            "125/125 [==============================] - 3s 26ms/step - loss: 0.0899 - mean_squared_error: 0.0899 - rmse: 0.2996 - val_loss: 0.0249 - val_mean_squared_error: 0.0249 - val_rmse: 0.1484\n"
          ]
        },
        {
          "output_type": "execute_result",
          "data": {
            "text/plain": [
              "<keras.src.callbacks.History at 0x7a0118edb100>"
            ]
          },
          "metadata": {},
          "execution_count": 20
        }
      ]
    },
    {
      "cell_type": "code",
      "source": [
        "model.fit(X_train, y_train, epochs=10, validation_data=(X_test, y_test), batch_size=100)"
      ],
      "metadata": {
        "colab": {
          "base_uri": "https://localhost:8080/"
        },
        "id": "aCh7EC4QWksi",
        "outputId": "85e65c85-8944-40a7-9acb-a562bd4460f2"
      },
      "execution_count": null,
      "outputs": [
        {
          "output_type": "stream",
          "name": "stdout",
          "text": [
            "Epoch 1/10\n",
            "80/80 [==============================] - 3s 42ms/step - loss: 0.0899 - mean_squared_error: 0.0899 - rmse: 0.2997 - val_loss: 0.0264 - val_mean_squared_error: 0.0264 - val_rmse: 0.1543\n",
            "Epoch 2/10\n",
            "80/80 [==============================] - 2s 21ms/step - loss: 0.0899 - mean_squared_error: 0.0899 - rmse: 0.2996 - val_loss: 0.0264 - val_mean_squared_error: 0.0264 - val_rmse: 0.1541\n",
            "Epoch 3/10\n",
            "80/80 [==============================] - 2s 22ms/step - loss: 0.0899 - mean_squared_error: 0.0899 - rmse: 0.2997 - val_loss: 0.0255 - val_mean_squared_error: 0.0255 - val_rmse: 0.1513\n",
            "Epoch 4/10\n",
            "80/80 [==============================] - 3s 42ms/step - loss: 0.0899 - mean_squared_error: 0.0899 - rmse: 0.2996 - val_loss: 0.0268 - val_mean_squared_error: 0.0268 - val_rmse: 0.1555\n",
            "Epoch 5/10\n",
            "80/80 [==============================] - 2s 22ms/step - loss: 0.0899 - mean_squared_error: 0.0899 - rmse: 0.2996 - val_loss: 0.0262 - val_mean_squared_error: 0.0262 - val_rmse: 0.1536\n",
            "Epoch 6/10\n",
            "80/80 [==============================] - 2s 30ms/step - loss: 0.0899 - mean_squared_error: 0.0899 - rmse: 0.2996 - val_loss: 0.0263 - val_mean_squared_error: 0.0263 - val_rmse: 0.1538\n",
            "Epoch 7/10\n",
            "80/80 [==============================] - 3s 38ms/step - loss: 0.0899 - mean_squared_error: 0.0899 - rmse: 0.2996 - val_loss: 0.0262 - val_mean_squared_error: 0.0262 - val_rmse: 0.1534\n",
            "Epoch 8/10\n",
            "80/80 [==============================] - 2s 23ms/step - loss: 0.0899 - mean_squared_error: 0.0899 - rmse: 0.2996 - val_loss: 0.0259 - val_mean_squared_error: 0.0259 - val_rmse: 0.1526\n",
            "Epoch 9/10\n",
            "80/80 [==============================] - 2s 22ms/step - loss: 0.0899 - mean_squared_error: 0.0899 - rmse: 0.2996 - val_loss: 0.0272 - val_mean_squared_error: 0.0272 - val_rmse: 0.1569\n",
            "Epoch 10/10\n",
            "80/80 [==============================] - 2s 22ms/step - loss: 0.0899 - mean_squared_error: 0.0899 - rmse: 0.2996 - val_loss: 0.0270 - val_mean_squared_error: 0.0270 - val_rmse: 0.1563\n"
          ]
        },
        {
          "output_type": "execute_result",
          "data": {
            "text/plain": [
              "<keras.src.callbacks.History at 0x7a0118516e90>"
            ]
          },
          "metadata": {},
          "execution_count": 21
        }
      ]
    },
    {
      "cell_type": "markdown",
      "source": [
        "## Dataset Concatenation with Natural Disaster"
      ],
      "metadata": {
        "id": "7JruVgLnZ6UM"
      }
    },
    {
      "cell_type": "code",
      "source": [
        "import pandas as pd\n",
        "\n",
        "# Load the datasets\n",
        "stock_data = pd.read_csv('/content/WIPRO_with_indicators_.csv')\n",
        "disaster_data = pd.read_csv('/content/Natural_Disasters_in_India .csv')\n",
        "\n",
        "# Convert stock date to datetime format\n",
        "stock_data['date'] = pd.to_datetime(stock_data['date'], format='%Y-%m-%d %H:%M:%S%z')\n",
        "\n",
        "# Convert disaster date to datetime format\n",
        "disaster_data['date'] = pd.to_datetime(disaster_data['date'], format='%d-%m-%Y')\n",
        "\n",
        "# Extract date part from the stock data to match with disaster data\n",
        "stock_data['date_only'] = stock_data['date'].dt.date\n",
        "\n",
        "# Create a new dataframe for disaster dates repeated for each 5-minute interval of that day\n",
        "disaster_expanded = pd.DataFrame()\n",
        "for disaster_date in disaster_data['date']:\n",
        "    mask = stock_data['date_only'] == disaster_date.date()\n",
        "    expanded = stock_data[mask].copy()\n",
        "    expanded['disaster'] = True\n",
        "    disaster_expanded = pd.concat([disaster_expanded, expanded], ignore_index=True)\n",
        "\n",
        "# Mark stock data without disasters as False\n",
        "stock_data['disaster'] = False\n",
        "\n",
        "# Combine both datasets\n",
        "combined_data = pd.concat([stock_data, disaster_expanded], ignore_index=True)\n",
        "\n",
        "# Sorting combined data based on date to ensure the order is maintained\n",
        "combined_data = combined_data.sort_values(by='date')\n",
        "\n",
        "# Fill any NaNs in the 'disaster' column with False\n",
        "combined_data['disaster'].fillna(False, inplace=True)\n",
        "\n",
        "# Drop the 'date_only' column as it's no longer needed\n",
        "combined_data.drop(columns=['date_only'], inplace=True)\n",
        "\n",
        "# Save the combined data to a new CSV file\n",
        "combined_data.to_csv('path_to_combined_data.csv', index=False)\n",
        "\n",
        "print(combined_data.head())\n"
      ],
      "metadata": {
        "colab": {
          "base_uri": "https://localhost:8080/",
          "height": 391
        },
        "id": "E9nRqdCgZ_xW",
        "outputId": "3359a664-c439-464e-83d5-d92d4237891c"
      },
      "execution_count": null,
      "outputs": [
        {
          "output_type": "error",
          "ename": "ValueError",
          "evalue": "time data \"2020-08–25 \" doesn't match format \"%d-%m-%Y\", at position 187. You might want to try:\n    - passing `format` if your strings have a consistent format;\n    - passing `format='ISO8601'` if your strings are all ISO8601 but not necessarily in exactly the same format;\n    - passing `format='mixed'`, and the format will be inferred for each element individually. You might want to use `dayfirst` alongside this.",
          "traceback": [
            "\u001b[0;31m---------------------------------------------------------------------------\u001b[0m",
            "\u001b[0;31mValueError\u001b[0m                                Traceback (most recent call last)",
            "\u001b[0;32m<ipython-input-37-e8cf4f7eaa17>\u001b[0m in \u001b[0;36m<cell line: 11>\u001b[0;34m()\u001b[0m\n\u001b[1;32m      9\u001b[0m \u001b[0;34m\u001b[0m\u001b[0m\n\u001b[1;32m     10\u001b[0m \u001b[0;31m# Convert disaster date to datetime format\u001b[0m\u001b[0;34m\u001b[0m\u001b[0;34m\u001b[0m\u001b[0m\n\u001b[0;32m---> 11\u001b[0;31m \u001b[0mdisaster_data\u001b[0m\u001b[0;34m[\u001b[0m\u001b[0;34m'date'\u001b[0m\u001b[0;34m]\u001b[0m \u001b[0;34m=\u001b[0m \u001b[0mpd\u001b[0m\u001b[0;34m.\u001b[0m\u001b[0mto_datetime\u001b[0m\u001b[0;34m(\u001b[0m\u001b[0mdisaster_data\u001b[0m\u001b[0;34m[\u001b[0m\u001b[0;34m'date'\u001b[0m\u001b[0;34m]\u001b[0m\u001b[0;34m,\u001b[0m \u001b[0mformat\u001b[0m\u001b[0;34m=\u001b[0m\u001b[0;34m'%d-%m-%Y'\u001b[0m\u001b[0;34m)\u001b[0m\u001b[0;34m\u001b[0m\u001b[0;34m\u001b[0m\u001b[0m\n\u001b[0m\u001b[1;32m     12\u001b[0m \u001b[0;34m\u001b[0m\u001b[0m\n\u001b[1;32m     13\u001b[0m \u001b[0;31m# Extract date part from the stock data to match with disaster data\u001b[0m\u001b[0;34m\u001b[0m\u001b[0;34m\u001b[0m\u001b[0m\n",
            "\u001b[0;32m/usr/local/lib/python3.10/dist-packages/pandas/core/tools/datetimes.py\u001b[0m in \u001b[0;36mto_datetime\u001b[0;34m(arg, errors, dayfirst, yearfirst, utc, format, exact, unit, infer_datetime_format, origin, cache)\u001b[0m\n\u001b[1;32m   1048\u001b[0m             \u001b[0mresult\u001b[0m \u001b[0;34m=\u001b[0m \u001b[0marg\u001b[0m\u001b[0;34m.\u001b[0m\u001b[0mmap\u001b[0m\u001b[0;34m(\u001b[0m\u001b[0mcache_array\u001b[0m\u001b[0;34m)\u001b[0m\u001b[0;34m\u001b[0m\u001b[0;34m\u001b[0m\u001b[0m\n\u001b[1;32m   1049\u001b[0m         \u001b[0;32melse\u001b[0m\u001b[0;34m:\u001b[0m\u001b[0;34m\u001b[0m\u001b[0;34m\u001b[0m\u001b[0m\n\u001b[0;32m-> 1050\u001b[0;31m             \u001b[0mvalues\u001b[0m \u001b[0;34m=\u001b[0m \u001b[0mconvert_listlike\u001b[0m\u001b[0;34m(\u001b[0m\u001b[0marg\u001b[0m\u001b[0;34m.\u001b[0m\u001b[0m_values\u001b[0m\u001b[0;34m,\u001b[0m \u001b[0mformat\u001b[0m\u001b[0;34m)\u001b[0m\u001b[0;34m\u001b[0m\u001b[0;34m\u001b[0m\u001b[0m\n\u001b[0m\u001b[1;32m   1051\u001b[0m             \u001b[0mresult\u001b[0m \u001b[0;34m=\u001b[0m \u001b[0marg\u001b[0m\u001b[0;34m.\u001b[0m\u001b[0m_constructor\u001b[0m\u001b[0;34m(\u001b[0m\u001b[0mvalues\u001b[0m\u001b[0;34m,\u001b[0m \u001b[0mindex\u001b[0m\u001b[0;34m=\u001b[0m\u001b[0marg\u001b[0m\u001b[0;34m.\u001b[0m\u001b[0mindex\u001b[0m\u001b[0;34m,\u001b[0m \u001b[0mname\u001b[0m\u001b[0;34m=\u001b[0m\u001b[0marg\u001b[0m\u001b[0;34m.\u001b[0m\u001b[0mname\u001b[0m\u001b[0;34m)\u001b[0m\u001b[0;34m\u001b[0m\u001b[0;34m\u001b[0m\u001b[0m\n\u001b[1;32m   1052\u001b[0m     \u001b[0;32melif\u001b[0m \u001b[0misinstance\u001b[0m\u001b[0;34m(\u001b[0m\u001b[0marg\u001b[0m\u001b[0;34m,\u001b[0m \u001b[0;34m(\u001b[0m\u001b[0mABCDataFrame\u001b[0m\u001b[0;34m,\u001b[0m \u001b[0mabc\u001b[0m\u001b[0;34m.\u001b[0m\u001b[0mMutableMapping\u001b[0m\u001b[0;34m)\u001b[0m\u001b[0;34m)\u001b[0m\u001b[0;34m:\u001b[0m\u001b[0;34m\u001b[0m\u001b[0;34m\u001b[0m\u001b[0m\n",
            "\u001b[0;32m/usr/local/lib/python3.10/dist-packages/pandas/core/tools/datetimes.py\u001b[0m in \u001b[0;36m_convert_listlike_datetimes\u001b[0;34m(arg, format, name, utc, unit, errors, dayfirst, yearfirst, exact)\u001b[0m\n\u001b[1;32m    451\u001b[0m     \u001b[0;31m# `format` could be inferred, or user didn't ask for mixed-format parsing.\u001b[0m\u001b[0;34m\u001b[0m\u001b[0;34m\u001b[0m\u001b[0m\n\u001b[1;32m    452\u001b[0m     \u001b[0;32mif\u001b[0m \u001b[0mformat\u001b[0m \u001b[0;32mis\u001b[0m \u001b[0;32mnot\u001b[0m \u001b[0;32mNone\u001b[0m \u001b[0;32mand\u001b[0m \u001b[0mformat\u001b[0m \u001b[0;34m!=\u001b[0m \u001b[0;34m\"mixed\"\u001b[0m\u001b[0;34m:\u001b[0m\u001b[0;34m\u001b[0m\u001b[0;34m\u001b[0m\u001b[0m\n\u001b[0;32m--> 453\u001b[0;31m         \u001b[0;32mreturn\u001b[0m \u001b[0m_array_strptime_with_fallback\u001b[0m\u001b[0;34m(\u001b[0m\u001b[0marg\u001b[0m\u001b[0;34m,\u001b[0m \u001b[0mname\u001b[0m\u001b[0;34m,\u001b[0m \u001b[0mutc\u001b[0m\u001b[0;34m,\u001b[0m \u001b[0mformat\u001b[0m\u001b[0;34m,\u001b[0m \u001b[0mexact\u001b[0m\u001b[0;34m,\u001b[0m \u001b[0merrors\u001b[0m\u001b[0;34m)\u001b[0m\u001b[0;34m\u001b[0m\u001b[0;34m\u001b[0m\u001b[0m\n\u001b[0m\u001b[1;32m    454\u001b[0m \u001b[0;34m\u001b[0m\u001b[0m\n\u001b[1;32m    455\u001b[0m     result, tz_parsed = objects_to_datetime64ns(\n",
            "\u001b[0;32m/usr/local/lib/python3.10/dist-packages/pandas/core/tools/datetimes.py\u001b[0m in \u001b[0;36m_array_strptime_with_fallback\u001b[0;34m(arg, name, utc, fmt, exact, errors)\u001b[0m\n\u001b[1;32m    482\u001b[0m     \u001b[0mCall\u001b[0m \u001b[0marray_strptime\u001b[0m\u001b[0;34m,\u001b[0m \u001b[0;32mwith\u001b[0m \u001b[0mfallback\u001b[0m \u001b[0mbehavior\u001b[0m \u001b[0mdepending\u001b[0m \u001b[0mon\u001b[0m \u001b[0;34m'errors'\u001b[0m\u001b[0;34m.\u001b[0m\u001b[0;34m\u001b[0m\u001b[0;34m\u001b[0m\u001b[0m\n\u001b[1;32m    483\u001b[0m     \"\"\"\n\u001b[0;32m--> 484\u001b[0;31m     \u001b[0mresult\u001b[0m\u001b[0;34m,\u001b[0m \u001b[0mtimezones\u001b[0m \u001b[0;34m=\u001b[0m \u001b[0marray_strptime\u001b[0m\u001b[0;34m(\u001b[0m\u001b[0marg\u001b[0m\u001b[0;34m,\u001b[0m \u001b[0mfmt\u001b[0m\u001b[0;34m,\u001b[0m \u001b[0mexact\u001b[0m\u001b[0;34m=\u001b[0m\u001b[0mexact\u001b[0m\u001b[0;34m,\u001b[0m \u001b[0merrors\u001b[0m\u001b[0;34m=\u001b[0m\u001b[0merrors\u001b[0m\u001b[0;34m,\u001b[0m \u001b[0mutc\u001b[0m\u001b[0;34m=\u001b[0m\u001b[0mutc\u001b[0m\u001b[0;34m)\u001b[0m\u001b[0;34m\u001b[0m\u001b[0;34m\u001b[0m\u001b[0m\n\u001b[0m\u001b[1;32m    485\u001b[0m     \u001b[0;32mif\u001b[0m \u001b[0many\u001b[0m\u001b[0;34m(\u001b[0m\u001b[0mtz\u001b[0m \u001b[0;32mis\u001b[0m \u001b[0;32mnot\u001b[0m \u001b[0;32mNone\u001b[0m \u001b[0;32mfor\u001b[0m \u001b[0mtz\u001b[0m \u001b[0;32min\u001b[0m \u001b[0mtimezones\u001b[0m\u001b[0;34m)\u001b[0m\u001b[0;34m:\u001b[0m\u001b[0;34m\u001b[0m\u001b[0;34m\u001b[0m\u001b[0m\n\u001b[1;32m    486\u001b[0m         \u001b[0;32mreturn\u001b[0m \u001b[0m_return_parsed_timezone_results\u001b[0m\u001b[0;34m(\u001b[0m\u001b[0mresult\u001b[0m\u001b[0;34m,\u001b[0m \u001b[0mtimezones\u001b[0m\u001b[0;34m,\u001b[0m \u001b[0mutc\u001b[0m\u001b[0;34m,\u001b[0m \u001b[0mname\u001b[0m\u001b[0;34m)\u001b[0m\u001b[0;34m\u001b[0m\u001b[0;34m\u001b[0m\u001b[0m\n",
            "\u001b[0;32m/usr/local/lib/python3.10/dist-packages/pandas/_libs/tslibs/strptime.pyx\u001b[0m in \u001b[0;36mpandas._libs.tslibs.strptime.array_strptime\u001b[0;34m()\u001b[0m\n",
            "\u001b[0;32m/usr/local/lib/python3.10/dist-packages/pandas/_libs/tslibs/strptime.pyx\u001b[0m in \u001b[0;36mpandas._libs.tslibs.strptime.array_strptime\u001b[0;34m()\u001b[0m\n",
            "\u001b[0;31mValueError\u001b[0m: time data \"2020-08–25 \" doesn't match format \"%d-%m-%Y\", at position 187. You might want to try:\n    - passing `format` if your strings have a consistent format;\n    - passing `format='ISO8601'` if your strings are all ISO8601 but not necessarily in exactly the same format;\n    - passing `format='mixed'`, and the format will be inferred for each element individually. You might want to use `dayfirst` alongside this."
          ]
        }
      ]
    },
    {
      "cell_type": "code",
      "source": [
        "import pandas as pd\n",
        "\n",
        "# Load the datasets\n",
        "stock_data = pd.read_csv('/content/WIPRO_with_indicators_.csv')\n",
        "disaster_data = pd.read_csv('/content/Natural_Disasters_in_India .csv')\n",
        "\n",
        "# Inspect the unique formats in disaster dates\n",
        "unique_formats = disaster_data['date'].astype(str).apply(lambda x: len(x.split('-'))).unique()\n",
        "print(f\"Unique date formats in disaster data: {unique_formats}\")\n",
        "\n",
        "# Manually clean any inconsistent dates\n",
        "# For demonstration, let's assume we need to replace '–' with '-'\n",
        "disaster_data['date'] = disaster_data['date'].str.replace('–', '-')\n",
        "\n",
        "# Convert stock date to datetime format\n",
        "stock_data['date'] = pd.to_datetime(stock_data['date'], format='%Y-%m-%d %H:%M:%S%z')\n",
        "\n",
        "# Convert disaster date to datetime format using a more flexible approach\n",
        "def parse_dates(date):\n",
        "    try:\n",
        "        return pd.to_datetime(date, format='%d-%m-%Y')\n",
        "    except ValueError:\n",
        "        return pd.to_datetime(date, format='%Y-%m-%d')\n",
        "\n",
        "disaster_data['date'] = disaster_data['date'].apply(parse_dates)\n",
        "\n",
        "# Extract date part from the stock data to match with disaster data\n",
        "stock_data['date_only'] = stock_data['date'].dt.date\n",
        "\n",
        "# Create a new dataframe for disaster dates repeated for each 5-minute interval of that day\n",
        "disaster_expanded = pd.DataFrame()\n",
        "for disaster_date in disaster_data['date']:\n",
        "    mask = stock_data['date_only'] == disaster_date.date()\n",
        "    expanded = stock_data[mask].copy()\n",
        "    expanded['disaster'] = True\n",
        "    disaster_expanded = pd.concat([disaster_expanded, expanded], ignore_index=True)\n",
        "\n",
        "# Mark stock data without disasters as False\n",
        "stock_data['disaster'] = False\n",
        "\n",
        "# Combine both datasets\n",
        "combined_data = pd.concat([stock_data, disaster_expanded], ignore_index=True)\n",
        "\n",
        "# Sorting combined data based on date to ensure the order is maintained\n",
        "combined_data = combined_data.sort_values(by='date')\n",
        "\n",
        "# Fill any NaNs in the 'disaster' column with False\n",
        "combined_data['disaster'].fillna(False, inplace=True)\n",
        "\n",
        "# Drop the 'date_only' column as it's no longer needed\n",
        "combined_data.drop(columns=['date_only'], inplace=True)\n",
        "\n",
        "# Save the combined data to a new CSV file\n",
        "combined_data.to_csv('path_to_combined_data.csv', index=False)\n",
        "\n",
        "print(combined_data.head())\n"
      ],
      "metadata": {
        "colab": {
          "base_uri": "https://localhost:8080/",
          "height": 564
        },
        "id": "jX28JGPXcb0c",
        "outputId": "0ce63700-00fd-4a00-d3da-2ace225680bd"
      },
      "execution_count": null,
      "outputs": [
        {
          "output_type": "stream",
          "name": "stdout",
          "text": [
            "Unique date formats in disaster data: [3 1 2]\n"
          ]
        },
        {
          "output_type": "error",
          "ename": "ValueError",
          "evalue": "unconverted data remains when parsing with format \"%Y-%m-%d\": \" \", at position 0. You might want to try:\n    - passing `format` if your strings have a consistent format;\n    - passing `format='ISO8601'` if your strings are all ISO8601 but not necessarily in exactly the same format;\n    - passing `format='mixed'`, and the format will be inferred for each element individually. You might want to use `dayfirst` alongside this.",
          "traceback": [
            "\u001b[0;31m---------------------------------------------------------------------------\u001b[0m",
            "\u001b[0;31mValueError\u001b[0m                                Traceback (most recent call last)",
            "\u001b[0;32m<ipython-input-39-3f8d006ea8ca>\u001b[0m in \u001b[0;36mparse_dates\u001b[0;34m(date)\u001b[0m\n\u001b[1;32m     20\u001b[0m     \u001b[0;32mtry\u001b[0m\u001b[0;34m:\u001b[0m\u001b[0;34m\u001b[0m\u001b[0;34m\u001b[0m\u001b[0m\n\u001b[0;32m---> 21\u001b[0;31m         \u001b[0;32mreturn\u001b[0m \u001b[0mpd\u001b[0m\u001b[0;34m.\u001b[0m\u001b[0mto_datetime\u001b[0m\u001b[0;34m(\u001b[0m\u001b[0mdate\u001b[0m\u001b[0;34m,\u001b[0m \u001b[0mformat\u001b[0m\u001b[0;34m=\u001b[0m\u001b[0;34m'%d-%m-%Y'\u001b[0m\u001b[0;34m)\u001b[0m\u001b[0;34m\u001b[0m\u001b[0;34m\u001b[0m\u001b[0m\n\u001b[0m\u001b[1;32m     22\u001b[0m     \u001b[0;32mexcept\u001b[0m \u001b[0mValueError\u001b[0m\u001b[0;34m:\u001b[0m\u001b[0;34m\u001b[0m\u001b[0;34m\u001b[0m\u001b[0m\n",
            "\u001b[0;32m/usr/local/lib/python3.10/dist-packages/pandas/core/tools/datetimes.py\u001b[0m in \u001b[0;36mto_datetime\u001b[0;34m(arg, errors, dayfirst, yearfirst, utc, format, exact, unit, infer_datetime_format, origin, cache)\u001b[0m\n\u001b[1;32m   1083\u001b[0m     \u001b[0;32melse\u001b[0m\u001b[0;34m:\u001b[0m\u001b[0;34m\u001b[0m\u001b[0;34m\u001b[0m\u001b[0m\n\u001b[0;32m-> 1084\u001b[0;31m         \u001b[0mresult\u001b[0m \u001b[0;34m=\u001b[0m \u001b[0mconvert_listlike\u001b[0m\u001b[0;34m(\u001b[0m\u001b[0mnp\u001b[0m\u001b[0;34m.\u001b[0m\u001b[0marray\u001b[0m\u001b[0;34m(\u001b[0m\u001b[0;34m[\u001b[0m\u001b[0marg\u001b[0m\u001b[0;34m]\u001b[0m\u001b[0;34m)\u001b[0m\u001b[0;34m,\u001b[0m \u001b[0mformat\u001b[0m\u001b[0;34m)\u001b[0m\u001b[0;34m[\u001b[0m\u001b[0;36m0\u001b[0m\u001b[0;34m]\u001b[0m\u001b[0;34m\u001b[0m\u001b[0;34m\u001b[0m\u001b[0m\n\u001b[0m\u001b[1;32m   1085\u001b[0m         \u001b[0;32mif\u001b[0m \u001b[0misinstance\u001b[0m\u001b[0;34m(\u001b[0m\u001b[0marg\u001b[0m\u001b[0;34m,\u001b[0m \u001b[0mbool\u001b[0m\u001b[0;34m)\u001b[0m \u001b[0;32mand\u001b[0m \u001b[0misinstance\u001b[0m\u001b[0;34m(\u001b[0m\u001b[0mresult\u001b[0m\u001b[0;34m,\u001b[0m \u001b[0mnp\u001b[0m\u001b[0;34m.\u001b[0m\u001b[0mbool_\u001b[0m\u001b[0;34m)\u001b[0m\u001b[0;34m:\u001b[0m\u001b[0;34m\u001b[0m\u001b[0;34m\u001b[0m\u001b[0m\n",
            "\u001b[0;32m/usr/local/lib/python3.10/dist-packages/pandas/core/tools/datetimes.py\u001b[0m in \u001b[0;36m_convert_listlike_datetimes\u001b[0;34m(arg, format, name, utc, unit, errors, dayfirst, yearfirst, exact)\u001b[0m\n\u001b[1;32m    452\u001b[0m     \u001b[0;32mif\u001b[0m \u001b[0mformat\u001b[0m \u001b[0;32mis\u001b[0m \u001b[0;32mnot\u001b[0m \u001b[0;32mNone\u001b[0m \u001b[0;32mand\u001b[0m \u001b[0mformat\u001b[0m \u001b[0;34m!=\u001b[0m \u001b[0;34m\"mixed\"\u001b[0m\u001b[0;34m:\u001b[0m\u001b[0;34m\u001b[0m\u001b[0;34m\u001b[0m\u001b[0m\n\u001b[0;32m--> 453\u001b[0;31m         \u001b[0;32mreturn\u001b[0m \u001b[0m_array_strptime_with_fallback\u001b[0m\u001b[0;34m(\u001b[0m\u001b[0marg\u001b[0m\u001b[0;34m,\u001b[0m \u001b[0mname\u001b[0m\u001b[0;34m,\u001b[0m \u001b[0mutc\u001b[0m\u001b[0;34m,\u001b[0m \u001b[0mformat\u001b[0m\u001b[0;34m,\u001b[0m \u001b[0mexact\u001b[0m\u001b[0;34m,\u001b[0m \u001b[0merrors\u001b[0m\u001b[0;34m)\u001b[0m\u001b[0;34m\u001b[0m\u001b[0;34m\u001b[0m\u001b[0m\n\u001b[0m\u001b[1;32m    454\u001b[0m \u001b[0;34m\u001b[0m\u001b[0m\n",
            "\u001b[0;32m/usr/local/lib/python3.10/dist-packages/pandas/core/tools/datetimes.py\u001b[0m in \u001b[0;36m_array_strptime_with_fallback\u001b[0;34m(arg, name, utc, fmt, exact, errors)\u001b[0m\n\u001b[1;32m    483\u001b[0m     \"\"\"\n\u001b[0;32m--> 484\u001b[0;31m     \u001b[0mresult\u001b[0m\u001b[0;34m,\u001b[0m \u001b[0mtimezones\u001b[0m \u001b[0;34m=\u001b[0m \u001b[0marray_strptime\u001b[0m\u001b[0;34m(\u001b[0m\u001b[0marg\u001b[0m\u001b[0;34m,\u001b[0m \u001b[0mfmt\u001b[0m\u001b[0;34m,\u001b[0m \u001b[0mexact\u001b[0m\u001b[0;34m=\u001b[0m\u001b[0mexact\u001b[0m\u001b[0;34m,\u001b[0m \u001b[0merrors\u001b[0m\u001b[0;34m=\u001b[0m\u001b[0merrors\u001b[0m\u001b[0;34m,\u001b[0m \u001b[0mutc\u001b[0m\u001b[0;34m=\u001b[0m\u001b[0mutc\u001b[0m\u001b[0;34m)\u001b[0m\u001b[0;34m\u001b[0m\u001b[0;34m\u001b[0m\u001b[0m\n\u001b[0m\u001b[1;32m    485\u001b[0m     \u001b[0;32mif\u001b[0m \u001b[0many\u001b[0m\u001b[0;34m(\u001b[0m\u001b[0mtz\u001b[0m \u001b[0;32mis\u001b[0m \u001b[0;32mnot\u001b[0m \u001b[0;32mNone\u001b[0m \u001b[0;32mfor\u001b[0m \u001b[0mtz\u001b[0m \u001b[0;32min\u001b[0m \u001b[0mtimezones\u001b[0m\u001b[0;34m)\u001b[0m\u001b[0;34m:\u001b[0m\u001b[0;34m\u001b[0m\u001b[0;34m\u001b[0m\u001b[0m\n",
            "\u001b[0;32m/usr/local/lib/python3.10/dist-packages/pandas/_libs/tslibs/strptime.pyx\u001b[0m in \u001b[0;36mpandas._libs.tslibs.strptime.array_strptime\u001b[0;34m()\u001b[0m\n",
            "\u001b[0;32m/usr/local/lib/python3.10/dist-packages/pandas/_libs/tslibs/strptime.pyx\u001b[0m in \u001b[0;36mpandas._libs.tslibs.strptime.array_strptime\u001b[0;34m()\u001b[0m\n",
            "\u001b[0;31mValueError\u001b[0m: time data \"2020-08-25 \" doesn't match format \"%d-%m-%Y\", at position 0. You might want to try:\n    - passing `format` if your strings have a consistent format;\n    - passing `format='ISO8601'` if your strings are all ISO8601 but not necessarily in exactly the same format;\n    - passing `format='mixed'`, and the format will be inferred for each element individually. You might want to use `dayfirst` alongside this.",
            "\nDuring handling of the above exception, another exception occurred:\n",
            "\u001b[0;31mValueError\u001b[0m                                Traceback (most recent call last)",
            "\u001b[0;32m<ipython-input-39-3f8d006ea8ca>\u001b[0m in \u001b[0;36m<cell line: 25>\u001b[0;34m()\u001b[0m\n\u001b[1;32m     23\u001b[0m         \u001b[0;32mreturn\u001b[0m \u001b[0mpd\u001b[0m\u001b[0;34m.\u001b[0m\u001b[0mto_datetime\u001b[0m\u001b[0;34m(\u001b[0m\u001b[0mdate\u001b[0m\u001b[0;34m,\u001b[0m \u001b[0mformat\u001b[0m\u001b[0;34m=\u001b[0m\u001b[0;34m'%Y-%m-%d'\u001b[0m\u001b[0;34m)\u001b[0m\u001b[0;34m\u001b[0m\u001b[0;34m\u001b[0m\u001b[0m\n\u001b[1;32m     24\u001b[0m \u001b[0;34m\u001b[0m\u001b[0m\n\u001b[0;32m---> 25\u001b[0;31m \u001b[0mdisaster_data\u001b[0m\u001b[0;34m[\u001b[0m\u001b[0;34m'date'\u001b[0m\u001b[0;34m]\u001b[0m \u001b[0;34m=\u001b[0m \u001b[0mdisaster_data\u001b[0m\u001b[0;34m[\u001b[0m\u001b[0;34m'date'\u001b[0m\u001b[0;34m]\u001b[0m\u001b[0;34m.\u001b[0m\u001b[0mapply\u001b[0m\u001b[0;34m(\u001b[0m\u001b[0mparse_dates\u001b[0m\u001b[0;34m)\u001b[0m\u001b[0;34m\u001b[0m\u001b[0;34m\u001b[0m\u001b[0m\n\u001b[0m\u001b[1;32m     26\u001b[0m \u001b[0;34m\u001b[0m\u001b[0m\n\u001b[1;32m     27\u001b[0m \u001b[0;31m# Extract date part from the stock data to match with disaster data\u001b[0m\u001b[0;34m\u001b[0m\u001b[0;34m\u001b[0m\u001b[0m\n",
            "\u001b[0;32m/usr/local/lib/python3.10/dist-packages/pandas/core/series.py\u001b[0m in \u001b[0;36mapply\u001b[0;34m(self, func, convert_dtype, args, **kwargs)\u001b[0m\n\u001b[1;32m   4628\u001b[0m         \u001b[0mdtype\u001b[0m\u001b[0;34m:\u001b[0m \u001b[0mfloat64\u001b[0m\u001b[0;34m\u001b[0m\u001b[0;34m\u001b[0m\u001b[0m\n\u001b[1;32m   4629\u001b[0m         \"\"\"\n\u001b[0;32m-> 4630\u001b[0;31m         \u001b[0;32mreturn\u001b[0m \u001b[0mSeriesApply\u001b[0m\u001b[0;34m(\u001b[0m\u001b[0mself\u001b[0m\u001b[0;34m,\u001b[0m \u001b[0mfunc\u001b[0m\u001b[0;34m,\u001b[0m \u001b[0mconvert_dtype\u001b[0m\u001b[0;34m,\u001b[0m \u001b[0margs\u001b[0m\u001b[0;34m,\u001b[0m \u001b[0mkwargs\u001b[0m\u001b[0;34m)\u001b[0m\u001b[0;34m.\u001b[0m\u001b[0mapply\u001b[0m\u001b[0;34m(\u001b[0m\u001b[0;34m)\u001b[0m\u001b[0;34m\u001b[0m\u001b[0;34m\u001b[0m\u001b[0m\n\u001b[0m\u001b[1;32m   4631\u001b[0m \u001b[0;34m\u001b[0m\u001b[0m\n\u001b[1;32m   4632\u001b[0m     def _reduce(\n",
            "\u001b[0;32m/usr/local/lib/python3.10/dist-packages/pandas/core/apply.py\u001b[0m in \u001b[0;36mapply\u001b[0;34m(self)\u001b[0m\n\u001b[1;32m   1023\u001b[0m \u001b[0;34m\u001b[0m\u001b[0m\n\u001b[1;32m   1024\u001b[0m         \u001b[0;31m# self.f is Callable\u001b[0m\u001b[0;34m\u001b[0m\u001b[0;34m\u001b[0m\u001b[0m\n\u001b[0;32m-> 1025\u001b[0;31m         \u001b[0;32mreturn\u001b[0m \u001b[0mself\u001b[0m\u001b[0;34m.\u001b[0m\u001b[0mapply_standard\u001b[0m\u001b[0;34m(\u001b[0m\u001b[0;34m)\u001b[0m\u001b[0;34m\u001b[0m\u001b[0;34m\u001b[0m\u001b[0m\n\u001b[0m\u001b[1;32m   1026\u001b[0m \u001b[0;34m\u001b[0m\u001b[0m\n\u001b[1;32m   1027\u001b[0m     \u001b[0;32mdef\u001b[0m \u001b[0magg\u001b[0m\u001b[0;34m(\u001b[0m\u001b[0mself\u001b[0m\u001b[0;34m)\u001b[0m\u001b[0;34m:\u001b[0m\u001b[0;34m\u001b[0m\u001b[0;34m\u001b[0m\u001b[0m\n",
            "\u001b[0;32m/usr/local/lib/python3.10/dist-packages/pandas/core/apply.py\u001b[0m in \u001b[0;36mapply_standard\u001b[0;34m(self)\u001b[0m\n\u001b[1;32m   1074\u001b[0m             \u001b[0;32melse\u001b[0m\u001b[0;34m:\u001b[0m\u001b[0;34m\u001b[0m\u001b[0;34m\u001b[0m\u001b[0m\n\u001b[1;32m   1075\u001b[0m                 \u001b[0mvalues\u001b[0m \u001b[0;34m=\u001b[0m \u001b[0mobj\u001b[0m\u001b[0;34m.\u001b[0m\u001b[0mastype\u001b[0m\u001b[0;34m(\u001b[0m\u001b[0mobject\u001b[0m\u001b[0;34m)\u001b[0m\u001b[0;34m.\u001b[0m\u001b[0m_values\u001b[0m\u001b[0;34m\u001b[0m\u001b[0;34m\u001b[0m\u001b[0m\n\u001b[0;32m-> 1076\u001b[0;31m                 mapped = lib.map_infer(\n\u001b[0m\u001b[1;32m   1077\u001b[0m                     \u001b[0mvalues\u001b[0m\u001b[0;34m,\u001b[0m\u001b[0;34m\u001b[0m\u001b[0;34m\u001b[0m\u001b[0m\n\u001b[1;32m   1078\u001b[0m                     \u001b[0mf\u001b[0m\u001b[0;34m,\u001b[0m\u001b[0;34m\u001b[0m\u001b[0;34m\u001b[0m\u001b[0m\n",
            "\u001b[0;32m/usr/local/lib/python3.10/dist-packages/pandas/_libs/lib.pyx\u001b[0m in \u001b[0;36mpandas._libs.lib.map_infer\u001b[0;34m()\u001b[0m\n",
            "\u001b[0;32m<ipython-input-39-3f8d006ea8ca>\u001b[0m in \u001b[0;36mparse_dates\u001b[0;34m(date)\u001b[0m\n\u001b[1;32m     21\u001b[0m         \u001b[0;32mreturn\u001b[0m \u001b[0mpd\u001b[0m\u001b[0;34m.\u001b[0m\u001b[0mto_datetime\u001b[0m\u001b[0;34m(\u001b[0m\u001b[0mdate\u001b[0m\u001b[0;34m,\u001b[0m \u001b[0mformat\u001b[0m\u001b[0;34m=\u001b[0m\u001b[0;34m'%d-%m-%Y'\u001b[0m\u001b[0;34m)\u001b[0m\u001b[0;34m\u001b[0m\u001b[0;34m\u001b[0m\u001b[0m\n\u001b[1;32m     22\u001b[0m     \u001b[0;32mexcept\u001b[0m \u001b[0mValueError\u001b[0m\u001b[0;34m:\u001b[0m\u001b[0;34m\u001b[0m\u001b[0;34m\u001b[0m\u001b[0m\n\u001b[0;32m---> 23\u001b[0;31m         \u001b[0;32mreturn\u001b[0m \u001b[0mpd\u001b[0m\u001b[0;34m.\u001b[0m\u001b[0mto_datetime\u001b[0m\u001b[0;34m(\u001b[0m\u001b[0mdate\u001b[0m\u001b[0;34m,\u001b[0m \u001b[0mformat\u001b[0m\u001b[0;34m=\u001b[0m\u001b[0;34m'%Y-%m-%d'\u001b[0m\u001b[0;34m)\u001b[0m\u001b[0;34m\u001b[0m\u001b[0;34m\u001b[0m\u001b[0m\n\u001b[0m\u001b[1;32m     24\u001b[0m \u001b[0;34m\u001b[0m\u001b[0m\n\u001b[1;32m     25\u001b[0m \u001b[0mdisaster_data\u001b[0m\u001b[0;34m[\u001b[0m\u001b[0;34m'date'\u001b[0m\u001b[0;34m]\u001b[0m \u001b[0;34m=\u001b[0m \u001b[0mdisaster_data\u001b[0m\u001b[0;34m[\u001b[0m\u001b[0;34m'date'\u001b[0m\u001b[0;34m]\u001b[0m\u001b[0;34m.\u001b[0m\u001b[0mapply\u001b[0m\u001b[0;34m(\u001b[0m\u001b[0mparse_dates\u001b[0m\u001b[0;34m)\u001b[0m\u001b[0;34m\u001b[0m\u001b[0;34m\u001b[0m\u001b[0m\n",
            "\u001b[0;32m/usr/local/lib/python3.10/dist-packages/pandas/core/tools/datetimes.py\u001b[0m in \u001b[0;36mto_datetime\u001b[0;34m(arg, errors, dayfirst, yearfirst, utc, format, exact, unit, infer_datetime_format, origin, cache)\u001b[0m\n\u001b[1;32m   1082\u001b[0m             \u001b[0mresult\u001b[0m \u001b[0;34m=\u001b[0m \u001b[0mconvert_listlike\u001b[0m\u001b[0;34m(\u001b[0m\u001b[0margc\u001b[0m\u001b[0;34m,\u001b[0m \u001b[0mformat\u001b[0m\u001b[0;34m)\u001b[0m\u001b[0;34m\u001b[0m\u001b[0;34m\u001b[0m\u001b[0m\n\u001b[1;32m   1083\u001b[0m     \u001b[0;32melse\u001b[0m\u001b[0;34m:\u001b[0m\u001b[0;34m\u001b[0m\u001b[0;34m\u001b[0m\u001b[0m\n\u001b[0;32m-> 1084\u001b[0;31m         \u001b[0mresult\u001b[0m \u001b[0;34m=\u001b[0m \u001b[0mconvert_listlike\u001b[0m\u001b[0;34m(\u001b[0m\u001b[0mnp\u001b[0m\u001b[0;34m.\u001b[0m\u001b[0marray\u001b[0m\u001b[0;34m(\u001b[0m\u001b[0;34m[\u001b[0m\u001b[0marg\u001b[0m\u001b[0;34m]\u001b[0m\u001b[0;34m)\u001b[0m\u001b[0;34m,\u001b[0m \u001b[0mformat\u001b[0m\u001b[0;34m)\u001b[0m\u001b[0;34m[\u001b[0m\u001b[0;36m0\u001b[0m\u001b[0;34m]\u001b[0m\u001b[0;34m\u001b[0m\u001b[0;34m\u001b[0m\u001b[0m\n\u001b[0m\u001b[1;32m   1085\u001b[0m         \u001b[0;32mif\u001b[0m \u001b[0misinstance\u001b[0m\u001b[0;34m(\u001b[0m\u001b[0marg\u001b[0m\u001b[0;34m,\u001b[0m \u001b[0mbool\u001b[0m\u001b[0;34m)\u001b[0m \u001b[0;32mand\u001b[0m \u001b[0misinstance\u001b[0m\u001b[0;34m(\u001b[0m\u001b[0mresult\u001b[0m\u001b[0;34m,\u001b[0m \u001b[0mnp\u001b[0m\u001b[0;34m.\u001b[0m\u001b[0mbool_\u001b[0m\u001b[0;34m)\u001b[0m\u001b[0;34m:\u001b[0m\u001b[0;34m\u001b[0m\u001b[0;34m\u001b[0m\u001b[0m\n\u001b[1;32m   1086\u001b[0m             \u001b[0mresult\u001b[0m \u001b[0;34m=\u001b[0m \u001b[0mbool\u001b[0m\u001b[0;34m(\u001b[0m\u001b[0mresult\u001b[0m\u001b[0;34m)\u001b[0m  \u001b[0;31m# TODO: avoid this kludge.\u001b[0m\u001b[0;34m\u001b[0m\u001b[0;34m\u001b[0m\u001b[0m\n",
            "\u001b[0;32m/usr/local/lib/python3.10/dist-packages/pandas/core/tools/datetimes.py\u001b[0m in \u001b[0;36m_convert_listlike_datetimes\u001b[0;34m(arg, format, name, utc, unit, errors, dayfirst, yearfirst, exact)\u001b[0m\n\u001b[1;32m    451\u001b[0m     \u001b[0;31m# `format` could be inferred, or user didn't ask for mixed-format parsing.\u001b[0m\u001b[0;34m\u001b[0m\u001b[0;34m\u001b[0m\u001b[0m\n\u001b[1;32m    452\u001b[0m     \u001b[0;32mif\u001b[0m \u001b[0mformat\u001b[0m \u001b[0;32mis\u001b[0m \u001b[0;32mnot\u001b[0m \u001b[0;32mNone\u001b[0m \u001b[0;32mand\u001b[0m \u001b[0mformat\u001b[0m \u001b[0;34m!=\u001b[0m \u001b[0;34m\"mixed\"\u001b[0m\u001b[0;34m:\u001b[0m\u001b[0;34m\u001b[0m\u001b[0;34m\u001b[0m\u001b[0m\n\u001b[0;32m--> 453\u001b[0;31m         \u001b[0;32mreturn\u001b[0m \u001b[0m_array_strptime_with_fallback\u001b[0m\u001b[0;34m(\u001b[0m\u001b[0marg\u001b[0m\u001b[0;34m,\u001b[0m \u001b[0mname\u001b[0m\u001b[0;34m,\u001b[0m \u001b[0mutc\u001b[0m\u001b[0;34m,\u001b[0m \u001b[0mformat\u001b[0m\u001b[0;34m,\u001b[0m \u001b[0mexact\u001b[0m\u001b[0;34m,\u001b[0m \u001b[0merrors\u001b[0m\u001b[0;34m)\u001b[0m\u001b[0;34m\u001b[0m\u001b[0;34m\u001b[0m\u001b[0m\n\u001b[0m\u001b[1;32m    454\u001b[0m \u001b[0;34m\u001b[0m\u001b[0m\n\u001b[1;32m    455\u001b[0m     result, tz_parsed = objects_to_datetime64ns(\n",
            "\u001b[0;32m/usr/local/lib/python3.10/dist-packages/pandas/core/tools/datetimes.py\u001b[0m in \u001b[0;36m_array_strptime_with_fallback\u001b[0;34m(arg, name, utc, fmt, exact, errors)\u001b[0m\n\u001b[1;32m    482\u001b[0m     \u001b[0mCall\u001b[0m \u001b[0marray_strptime\u001b[0m\u001b[0;34m,\u001b[0m \u001b[0;32mwith\u001b[0m \u001b[0mfallback\u001b[0m \u001b[0mbehavior\u001b[0m \u001b[0mdepending\u001b[0m \u001b[0mon\u001b[0m \u001b[0;34m'errors'\u001b[0m\u001b[0;34m.\u001b[0m\u001b[0;34m\u001b[0m\u001b[0;34m\u001b[0m\u001b[0m\n\u001b[1;32m    483\u001b[0m     \"\"\"\n\u001b[0;32m--> 484\u001b[0;31m     \u001b[0mresult\u001b[0m\u001b[0;34m,\u001b[0m \u001b[0mtimezones\u001b[0m \u001b[0;34m=\u001b[0m \u001b[0marray_strptime\u001b[0m\u001b[0;34m(\u001b[0m\u001b[0marg\u001b[0m\u001b[0;34m,\u001b[0m \u001b[0mfmt\u001b[0m\u001b[0;34m,\u001b[0m \u001b[0mexact\u001b[0m\u001b[0;34m=\u001b[0m\u001b[0mexact\u001b[0m\u001b[0;34m,\u001b[0m \u001b[0merrors\u001b[0m\u001b[0;34m=\u001b[0m\u001b[0merrors\u001b[0m\u001b[0;34m,\u001b[0m \u001b[0mutc\u001b[0m\u001b[0;34m=\u001b[0m\u001b[0mutc\u001b[0m\u001b[0;34m)\u001b[0m\u001b[0;34m\u001b[0m\u001b[0;34m\u001b[0m\u001b[0m\n\u001b[0m\u001b[1;32m    485\u001b[0m     \u001b[0;32mif\u001b[0m \u001b[0many\u001b[0m\u001b[0;34m(\u001b[0m\u001b[0mtz\u001b[0m \u001b[0;32mis\u001b[0m \u001b[0;32mnot\u001b[0m \u001b[0;32mNone\u001b[0m \u001b[0;32mfor\u001b[0m \u001b[0mtz\u001b[0m \u001b[0;32min\u001b[0m \u001b[0mtimezones\u001b[0m\u001b[0;34m)\u001b[0m\u001b[0;34m:\u001b[0m\u001b[0;34m\u001b[0m\u001b[0;34m\u001b[0m\u001b[0m\n\u001b[1;32m    486\u001b[0m         \u001b[0;32mreturn\u001b[0m \u001b[0m_return_parsed_timezone_results\u001b[0m\u001b[0;34m(\u001b[0m\u001b[0mresult\u001b[0m\u001b[0;34m,\u001b[0m \u001b[0mtimezones\u001b[0m\u001b[0;34m,\u001b[0m \u001b[0mutc\u001b[0m\u001b[0;34m,\u001b[0m \u001b[0mname\u001b[0m\u001b[0;34m)\u001b[0m\u001b[0;34m\u001b[0m\u001b[0;34m\u001b[0m\u001b[0m\n",
            "\u001b[0;32m/usr/local/lib/python3.10/dist-packages/pandas/_libs/tslibs/strptime.pyx\u001b[0m in \u001b[0;36mpandas._libs.tslibs.strptime.array_strptime\u001b[0;34m()\u001b[0m\n",
            "\u001b[0;32m/usr/local/lib/python3.10/dist-packages/pandas/_libs/tslibs/strptime.pyx\u001b[0m in \u001b[0;36mpandas._libs.tslibs.strptime.array_strptime\u001b[0;34m()\u001b[0m\n",
            "\u001b[0;31mValueError\u001b[0m: unconverted data remains when parsing with format \"%Y-%m-%d\": \" \", at position 0. You might want to try:\n    - passing `format` if your strings have a consistent format;\n    - passing `format='ISO8601'` if your strings are all ISO8601 but not necessarily in exactly the same format;\n    - passing `format='mixed'`, and the format will be inferred for each element individually. You might want to use `dayfirst` alongside this."
          ]
        }
      ]
    }
  ]
}